{
 "cells": [
  {
   "cell_type": "code",
   "execution_count": 1,
   "id": "a9b86f9b",
   "metadata": {},
   "outputs": [],
   "source": [
    " def hIndex(cita):\n",
    "        \n",
    "        n=cita.copy()\n",
    "        n=set(n)\n",
    "        n=list(n) \n",
    "        if len(n)==1 and n[0]==0:\n",
    "            return 0\n",
    "        if len(n)==1:\n",
    "            return min(len(cita),cita[0]) \n",
    "\n",
    "\n",
    "\n",
    "        cita.sort()\n",
    "        a=set(cita)\n",
    "        a=list(a)\n",
    "        a.sort(reverse=True)\n",
    "        h=1\n",
    "        for i in a:\n",
    "            c=cita.index(i)\n",
    "            if len(cita)-c<=i: \n",
    "                h=max(h,len(cita)-c)\n",
    "        k=min(len(cita),cita[0])\n",
    "        h=max(h,k) \n",
    "        return h"
   ]
  },
  {
   "cell_type": "code",
   "execution_count": 2,
   "id": "2e05c73c",
   "metadata": {},
   "outputs": [
    {
     "data": {
      "text/plain": [
       "2"
      ]
     },
     "execution_count": 2,
     "metadata": {},
     "output_type": "execute_result"
    }
   ],
   "source": [
    "hIndex([2,3,2])"
   ]
  },
  {
   "cell_type": "code",
   "execution_count": 11,
   "id": "e2066b65",
   "metadata": {},
   "outputs": [
    {
     "name": "stderr",
     "output_type": "stream",
     "text": [
      "'nvidia-smi' is not recognized as an internal or external command,\n",
      "operable program or batch file.\n"
     ]
    }
   ],
   "source": [
    "!nvidia-smi"
   ]
  },
  {
   "cell_type": "code",
   "execution_count": null,
   "id": "91abcd9d",
   "metadata": {},
   "outputs": [],
   "source": []
  }
 ],
 "metadata": {
  "kernelspec": {
   "display_name": "Python 3 (ipykernel)",
   "language": "python",
   "name": "python3"
  },
  "language_info": {
   "codemirror_mode": {
    "name": "ipython",
    "version": 3
   },
   "file_extension": ".py",
   "mimetype": "text/x-python",
   "name": "python",
   "nbconvert_exporter": "python",
   "pygments_lexer": "ipython3",
   "version": "3.10.9"
  }
 },
 "nbformat": 4,
 "nbformat_minor": 5
}
