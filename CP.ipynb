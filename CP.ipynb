{
 "cells": [
  {
   "cell_type": "code",
   "execution_count": 5,
   "id": "4e8dc3bf",
   "metadata": {},
   "outputs": [],
   "source": [
    "import sys\n",
    "def get_ints(): return map(int, sys.stdin.readline().strip().split())"
   ]
  },
  {
   "cell_type": "code",
   "execution_count": 9,
   "id": "d2524a5b",
   "metadata": {},
   "outputs": [
    {
     "ename": "ValueError",
     "evalue": "not enough values to unpack (expected 2, got 0)",
     "output_type": "error",
     "traceback": [
      "\u001b[1;31m---------------------------------------------------------------------------\u001b[0m",
      "\u001b[1;31mValueError\u001b[0m                                Traceback (most recent call last)",
      "Input \u001b[1;32mIn [9]\u001b[0m, in \u001b[0;36m<cell line: 1>\u001b[1;34m()\u001b[0m\n\u001b[1;32m----> 1\u001b[0m a,b\u001b[38;5;241m=\u001b[39mget_ints()\n",
      "\u001b[1;31mValueError\u001b[0m: not enough values to unpack (expected 2, got 0)"
     ]
    }
   ],
   "source": [
    "=get_ints()"
   ]
  },
  {
   "cell_type": "code",
   "execution_count": 13,
   "id": "53c977b4",
   "metadata": {},
   "outputs": [
    {
     "name": "stdout",
     "output_type": "stream",
     "text": [
      "5\n",
      "1 2 3 4 5\n",
      "15\n"
     ]
    }
   ],
   "source": [
    "# basic method of input output\n",
    "# input N\n",
    "n = int(input())\n",
    " \n",
    "# input the array\n",
    "arr = [int(x) for x in input().split()]\n",
    " \n",
    "# initialize variable\n",
    "summation = 0\n",
    " \n",
    "# calculate sum\n",
    "for x in arr:\n",
    "    summation += x\n",
    "     \n",
    "# print answer\n",
    "print(summation)"
   ]
  },
  {
   "cell_type": "code",
   "execution_count": 6,
   "id": "274002d7",
   "metadata": {},
   "outputs": [
    {
     "ename": "IndentationError",
     "evalue": "unexpected indent (4196789651.py, line 6)",
     "output_type": "error",
     "traceback": [
      "\u001b[1;36m  Input \u001b[1;32mIn [6]\u001b[1;36m\u001b[0m\n\u001b[1;33m    n = stdin.readline()\u001b[0m\n\u001b[1;37m    ^\u001b[0m\n\u001b[1;31mIndentationError\u001b[0m\u001b[1;31m:\u001b[0m unexpected indent\n"
     ]
    }
   ],
   "source": [
    "# import inbuilt standard input output\n",
    "from sys import stdin, stdout\n",
    " \n",
    "\n",
    "    # input via readline method\n",
    "    n = stdin.readline()\n",
    " \n",
    "    # array input similar method\n",
    "    arr = [int(x) for x in stdin.readline().split()]\n",
    " \n",
    "    #initialize variable\n",
    "    summation = 0\n",
    "     \n",
    "    # calculate sum\n",
    "    for x in arr:\n",
    "        summation += x\n",
    "    # could use inbuilt summation = sum(arr)\n",
    " \n",
    "    # print answer via write\n",
    "    # write method writes only\n",
    "    # string operations\n",
    "    # so we need to convert any\n",
    "    # data into string for input\n",
    "    stdout.write(str(summation))  \n",
    " "
   ]
  },
  {
   "cell_type": "code",
   "execution_count": 5,
   "id": "e281d02b",
   "metadata": {},
   "outputs": [
    {
     "name": "stdout",
     "output_type": "stream",
     "text": [
      "0"
     ]
    }
   ],
   "source": [
    "main()"
   ]
  },
  {
   "cell_type": "code",
   "execution_count": 7,
   "id": "412660ef",
   "metadata": {},
   "outputs": [
    {
     "ename": "IndentationError",
     "evalue": "unexpected indent (1369260091.py, line 2)",
     "output_type": "error",
     "traceback": [
      "\u001b[1;36m  Input \u001b[1;32mIn [7]\u001b[1;36m\u001b[0m\n\u001b[1;33m    arr = [int(x) for x in stdin.readline().split()]\u001b[0m\n\u001b[1;37m    ^\u001b[0m\n\u001b[1;31mIndentationError\u001b[0m\u001b[1;31m:\u001b[0m unexpected indent\n"
     ]
    }
   ],
   "source": [
    "# array input similar method\n",
    "    arr = [int(x) for x in stdin.readline().split()]"
   ]
  },
  {
   "cell_type": "code",
   "execution_count": 8,
   "id": "e103e9eb",
   "metadata": {},
   "outputs": [],
   "source": [
    "import sys\n",
    "def get_ints(): return map(int, sys.stdin.readline().strip().split())"
   ]
  },
  {
   "cell_type": "code",
   "execution_count": 9,
   "id": "587c914a",
   "metadata": {},
   "outputs": [
    {
     "ename": "SyntaxError",
     "evalue": "cannot assign to literal (3877620155.py, line 1)",
     "output_type": "error",
     "traceback": [
      "\u001b[1;36m  Input \u001b[1;32mIn [9]\u001b[1;36m\u001b[0m\n\u001b[1;33m    1,2,3,4 = get_ints()\u001b[0m\n\u001b[1;37m    ^\u001b[0m\n\u001b[1;31mSyntaxError\u001b[0m\u001b[1;31m:\u001b[0m cannot assign to literal\n"
     ]
    }
   ],
   "source": [
    "1,2,3,4 = get_ints()"
   ]
  },
  {
   "cell_type": "code",
   "execution_count": 26,
   "id": "12b8d6df",
   "metadata": {},
   "outputs": [],
   "source": [
    "arr=[1,2,3,4,5]"
   ]
  },
  {
   "cell_type": "code",
   "execution_count": 13,
   "id": "91b53224",
   "metadata": {},
   "outputs": [
    {
     "name": "stdout",
     "output_type": "stream",
     "text": [
      "(0, 1)\n",
      "(1, 2)\n",
      "(2, 3)\n",
      "(3, 4)\n",
      "(4, 5)\n"
     ]
    }
   ],
   "source": [
    "for i in enumerate(arr):\n",
    "    print(i)"
   ]
  },
  {
   "cell_type": "code",
   "execution_count": 40,
   "id": "041ea9d7",
   "metadata": {},
   "outputs": [],
   "source": [
    "p=[1,2,3,4,5]"
   ]
  },
  {
   "cell_type": "code",
   "execution_count": 15,
   "id": "63634d9e",
   "metadata": {},
   "outputs": [
    {
     "ename": "IndexError",
     "evalue": "list assignment index out of range",
     "output_type": "error",
     "traceback": [
      "\u001b[1;31m---------------------------------------------------------------------------\u001b[0m",
      "\u001b[1;31mIndexError\u001b[0m                                Traceback (most recent call last)",
      "Input \u001b[1;32mIn [15]\u001b[0m, in \u001b[0;36m<cell line: 1>\u001b[1;34m()\u001b[0m\n\u001b[1;32m----> 1\u001b[0m p[\u001b[38;5;241m1\u001b[39m]\u001b[38;5;241m=\u001b[39m\u001b[38;5;241m34\u001b[39m\n",
      "\u001b[1;31mIndexError\u001b[0m: list assignment index out of range"
     ]
    }
   ],
   "source": [
    "p[1]34"
   ]
  },
  {
   "cell_type": "code",
   "execution_count": 17,
   "id": "d5f38a82",
   "metadata": {},
   "outputs": [],
   "source": [
    "p.reverse()"
   ]
  },
  {
   "cell_type": "code",
   "execution_count": 21,
   "id": "e7ecc1f4",
   "metadata": {},
   "outputs": [
    {
     "data": {
      "text/plain": [
       "[0]"
      ]
     },
     "execution_count": 21,
     "metadata": {},
     "output_type": "execute_result"
    }
   ],
   "source": [
    "p"
   ]
  },
  {
   "cell_type": "code",
   "execution_count": 23,
   "id": "4e11d796",
   "metadata": {},
   "outputs": [
    {
     "data": {
      "text/plain": [
       "2"
      ]
     },
     "execution_count": 23,
     "metadata": {},
     "output_type": "execute_result"
    }
   ],
   "source": [
    "p.pop(1)"
   ]
  },
  {
   "cell_type": "code",
   "execution_count": 41,
   "id": "90e414cd",
   "metadata": {},
   "outputs": [],
   "source": [
    "p.remove(p[2])"
   ]
  },
  {
   "cell_type": "code",
   "execution_count": 42,
   "id": "a63231f2",
   "metadata": {},
   "outputs": [
    {
     "data": {
      "text/plain": [
       "[1, 2, 4, 5]"
      ]
     },
     "execution_count": 42,
     "metadata": {},
     "output_type": "execute_result"
    }
   ],
   "source": [
    "p"
   ]
  },
  {
   "cell_type": "code",
   "execution_count": 45,
   "id": "792f541c",
   "metadata": {},
   "outputs": [
    {
     "data": {
      "text/plain": [
       "4"
      ]
     },
     "execution_count": 45,
     "metadata": {},
     "output_type": "execute_result"
    }
   ],
   "source": [
    "p[2]"
   ]
  },
  {
   "cell_type": "code",
   "execution_count": 38,
   "id": "07d1f010",
   "metadata": {},
   "outputs": [
    {
     "data": {
      "text/plain": [
       "4"
      ]
     },
     "execution_count": 38,
     "metadata": {},
     "output_type": "execute_result"
    }
   ],
   "source": [
    "len(p)"
   ]
  },
  {
   "cell_type": "code",
   "execution_count": 39,
   "id": "47df807a",
   "metadata": {},
   "outputs": [],
   "source": [
    "class Solution:\n",
    "    def productExceptSelf(self, nums, n):\n",
    "        q=nums.copy()\n",
    "        p=[]\n",
    "        a=1\n",
    "        for i in range(0,n):\n",
    "            q.remove(q[i])\n",
    "            for x in range(0,len(q)):\n",
    "                p.append(a*q[x])\n",
    "                \n",
    "        return p"
   ]
  },
  {
   "cell_type": "code",
   "execution_count": 58,
   "id": "a01dcff8",
   "metadata": {},
   "outputs": [],
   "source": [
    "y=np.arange(0,100000,0.001)"
   ]
  },
  {
   "cell_type": "code",
   "execution_count": 1,
   "id": "bd66a744",
   "metadata": {},
   "outputs": [],
   "source": [
    "import numpy as np"
   ]
  },
  {
   "cell_type": "code",
   "execution_count": 52,
   "id": "2b7208a1",
   "metadata": {},
   "outputs": [
    {
     "data": {
      "text/plain": [
       "array([0.0000000e+00, 1.0000000e-03, 2.0000000e-03, ..., 9.9999997e+04,\n",
       "       9.9999998e+04, 9.9999999e+04])"
      ]
     },
     "execution_count": 52,
     "metadata": {},
     "output_type": "execute_result"
    }
   ],
   "source": [
    "x"
   ]
  },
  {
   "cell_type": "code",
   "execution_count": null,
   "id": "bf2407a7",
   "metadata": {},
   "outputs": [
    {
     "name": "stdout",
     "output_type": "stream",
     "text": [
      "enter a number64\n"
     ]
    }
   ],
   "source": [
    "y=np.arange(0,100000,0.001)\n",
    "z=input('enter a number')\n",
    "for x in y:\n",
    "    if x*x==z:\n",
    "        print(x)\n",
    "    else:\n",
    "        pass"
   ]
  },
  {
   "cell_type": "code",
   "execution_count": null,
   "id": "53048c29",
   "metadata": {},
   "outputs": [
    {
     "name": "stdout",
     "output_type": "stream",
     "text": [
      "8.0\n"
     ]
    }
   ],
   "source": [
    "y=np.arange(0,100000,0.001)\n",
    "for x in y:\n",
    "    if x*x==64:\n",
    "        print(x)\n",
    "    else:\n",
    "        pass"
   ]
  },
  {
   "cell_type": "code",
   "execution_count": 14,
   "id": "591024bc",
   "metadata": {},
   "outputs": [],
   "source": [
    "\n",
    "    def productExceptSelf(nums, n):\n",
    "        p=[]\n",
    "        for i in range(0,n):\n",
    "            q=nums.copy()\n",
    "            a=1\n",
    "            q.remove(nums[i])\n",
    "            for x in range(0,n-1):\n",
    "                a*=q[x]\n",
    "            print(a)\n",
    "        "
   ]
  },
  {
   "cell_type": "code",
   "execution_count": 15,
   "id": "fb3b977a",
   "metadata": {},
   "outputs": [
    {
     "name": "stdout",
     "output_type": "stream",
     "text": [
      "120\n",
      "60\n",
      "40\n",
      "30\n",
      "24\n"
     ]
    }
   ],
   "source": [
    "productExceptSelf( [1,2,3,4,5], 5)"
   ]
  },
  {
   "cell_type": "code",
   "execution_count": 17,
   "id": "4a091b60",
   "metadata": {},
   "outputs": [],
   "source": [
    "R=5\n",
    "C=4\n",
    "psa = [[0 for x in range(C)]\n",
    "              for y in range(R)]"
   ]
  },
  {
   "cell_type": "code",
   "execution_count": 18,
   "id": "608d4174",
   "metadata": {},
   "outputs": [
    {
     "data": {
      "text/plain": [
       "[[0, 0, 0, 0], [0, 0, 0, 0], [0, 0, 0, 0], [0, 0, 0, 0], [0, 0, 0, 0]]"
      ]
     },
     "execution_count": 18,
     "metadata": {},
     "output_type": "execute_result"
    }
   ],
   "source": [
    "psa"
   ]
  },
  {
   "cell_type": "code",
   "execution_count": 19,
   "id": "1fb5fab9",
   "metadata": {},
   "outputs": [],
   "source": [
    "a = [[ 1, 4, 6, 3, 7 ],\n",
    "     [ 0, 9, 7, 6, 8 ],\n",
    "     [ 2, 3, 6, 4, 5 ],\n",
    "     [ 1, 1, 1, 1, 1 ]]"
   ]
  },
  {
   "cell_type": "code",
   "execution_count": 22,
   "id": "902a57eb",
   "metadata": {},
   "outputs": [
    {
     "data": {
      "text/plain": [
       "4"
      ]
     },
     "execution_count": 22,
     "metadata": {},
     "output_type": "execute_result"
    }
   ],
   "source": [
    "a[0][1]"
   ]
  },
  {
   "cell_type": "code",
   "execution_count": 23,
   "id": "47358370",
   "metadata": {},
   "outputs": [
    {
     "name": "stdout",
     "output_type": "stream",
     "text": [
      "0\n",
      "1\n",
      "2\n",
      "3\n",
      "4\n"
     ]
    }
   ],
   "source": [
    "for x in range(5):\n",
    "    print(x)"
   ]
  },
  {
   "cell_type": "markdown",
   "id": "2e4c2b6a",
   "metadata": {},
   "source": [
    "##### window sum "
   ]
  },
  {
   "cell_type": "code",
   "execution_count": 35,
   "id": "29d23d5b",
   "metadata": {},
   "outputs": [],
   "source": [
    "def sumarray(A,k):\n",
    "    b=0\n",
    "    n=len(A)\n",
    "    for i in range(0,n):\n",
    "        sum=0\n",
    "        for y  in range(0,k):\n",
    "            if i+y<n:\n",
    "                sum+=A[i+y]\n",
    "            else:\n",
    "                pass\n",
    "        if sum>b:\n",
    "            b=sum\n",
    "        else:\n",
    "            pass \n",
    "    print(b)"
   ]
  },
  {
   "cell_type": "code",
   "execution_count": 36,
   "id": "ca1b53fc",
   "metadata": {},
   "outputs": [
    {
     "name": "stdout",
     "output_type": "stream",
     "text": [
      "39\n"
     ]
    }
   ],
   "source": [
    "A=[1, 4, 2, 10, 23, 3, 1, 0, 20]\n",
    "k=4\n",
    "\n",
    "sumarray(A,k)"
   ]
  },
  {
   "cell_type": "code",
   "execution_count": 37,
   "id": "19a7c679",
   "metadata": {},
   "outputs": [],
   "source": [
    "a=5"
   ]
  },
  {
   "cell_type": "code",
   "execution_count": 38,
   "id": "f2f41d7a",
   "metadata": {},
   "outputs": [
    {
     "data": {
      "text/plain": [
       "5"
      ]
     },
     "execution_count": 38,
     "metadata": {},
     "output_type": "execute_result"
    }
   ],
   "source": [
    "++a"
   ]
  },
  {
   "cell_type": "code",
   "execution_count": 50,
   "id": "bd836e83",
   "metadata": {},
   "outputs": [],
   "source": [
    "def leastPrimeFactor(n) :\n",
    "     \n",
    "    # Create a vector to store least primes.\n",
    "    # Initialize all entries as 0.\n",
    "    least_prime = [0] * (n + 2)\n",
    " \n",
    "    # We need to print 1 for 1.\n",
    "    least_prime[1] = 1\n",
    " \n",
    "    for i in range(2, n + 1) :\n",
    "         \n",
    "        # least_prime[i] == 0\n",
    "        # means it i is prime\n",
    "        if (least_prime[i] == 0) :\n",
    "             \n",
    "            # marking the prime number\n",
    "            # as its own lpf\n",
    "            least_prime[i] = i\n",
    " \n",
    "            # mark it as a divisor for all its\n",
    "            # multiples if not already marked\n",
    "            for j in range(i * i, n + 1, i) :\n",
    "                if (least_prime[j] == 0) :\n",
    "                    least_prime[j] = i\n",
    "         \n",
    "         \n",
    "    # print least prime factor\n",
    "    # of numbers till n\n",
    "    for i in range(1, n + 1) :\n",
    "        print(\"Least Prime factor of \"\n",
    "              ,i , \": \" , least_prime[i] )\n",
    "         \n",
    "\n",
    " \n"
   ]
  },
  {
   "cell_type": "code",
   "execution_count": 51,
   "id": "7f8c1ff7",
   "metadata": {},
   "outputs": [
    {
     "name": "stdout",
     "output_type": "stream",
     "text": [
      "Least Prime factor of  1 :  1\n",
      "Least Prime factor of  2 :  2\n",
      "Least Prime factor of  3 :  3\n",
      "Least Prime factor of  4 :  2\n",
      "Least Prime factor of  5 :  5\n",
      "Least Prime factor of  6 :  2\n",
      "Least Prime factor of  7 :  7\n",
      "Least Prime factor of  8 :  2\n",
      "Least Prime factor of  9 :  3\n",
      "Least Prime factor of  10 :  2\n"
     ]
    }
   ],
   "source": [
    "leastPrimeFactor(10)"
   ]
  },
  {
   "cell_type": "code",
   "execution_count": 48,
   "id": "e1fcd373",
   "metadata": {},
   "outputs": [],
   "source": [
    "least_prime = [0][0] * (10 + 1)"
   ]
  },
  {
   "cell_type": "code",
   "execution_count": 49,
   "id": "b553ebed",
   "metadata": {},
   "outputs": [
    {
     "data": {
      "text/plain": [
       "0"
      ]
     },
     "execution_count": 49,
     "metadata": {},
     "output_type": "execute_result"
    }
   ],
   "source": [
    "least_prime"
   ]
  },
  {
   "cell_type": "markdown",
   "id": "a367317c",
   "metadata": {},
   "source": [
    "#### sum of all factors"
   ]
  },
  {
   "cell_type": "code",
   "execution_count": 54,
   "id": "2586bb9a",
   "metadata": {},
   "outputs": [],
   "source": [
    "def sumofallfactors(n):\n",
    "    sum=0\n",
    "    for i in range(1,n+1):\n",
    "        if n%i==0:\n",
    "            sum+=i\n",
    "        else:\n",
    "            pass\n",
    "    return sum"
   ]
  },
  {
   "cell_type": "code",
   "execution_count": 58,
   "id": "16d32124",
   "metadata": {},
   "outputs": [
    {
     "data": {
      "text/plain": [
       "31"
      ]
     },
     "execution_count": 58,
     "metadata": {},
     "output_type": "execute_result"
    }
   ],
   "source": [
    "sumofallfactors(16)"
   ]
  },
  {
   "cell_type": "code",
   "execution_count": 61,
   "id": "913518cd",
   "metadata": {},
   "outputs": [],
   "source": [
    "import math as m"
   ]
  },
  {
   "cell_type": "code",
   "execution_count": 62,
   "id": "b23f6bfd",
   "metadata": {},
   "outputs": [],
   "source": [
    "def sumofFactors(n):\n",
    "     \n",
    "    # Traversing through all\n",
    "    # prime factors\n",
    "    res = 1\n",
    "    for i in range(2, int(m.sqrt(n) + 1)):\n",
    "         \n",
    "        curr_sum = 1\n",
    "        curr_term = 1\n",
    "         \n",
    "        while n % i == 0:\n",
    "             \n",
    "            n = n / i;\n",
    " \n",
    "            curr_term = curr_term * i;\n",
    "            curr_sum += curr_term;\n",
    "             \n",
    "        res = res * curr_sum\n",
    "     \n",
    "    # This condition is to handle the\n",
    "    # case when n is a prime number\n",
    "    # greater than 2\n",
    "    if n > 2:\n",
    "        res = res * (1 + n)\n",
    " \n",
    "    return res;"
   ]
  },
  {
   "cell_type": "code",
   "execution_count": 66,
   "id": "dbc095ee",
   "metadata": {},
   "outputs": [
    {
     "data": {
      "text/plain": [
       "28"
      ]
     },
     "execution_count": 66,
     "metadata": {},
     "output_type": "execute_result"
    }
   ],
   "source": [
    "sumofFactors(12)"
   ]
  },
  {
   "cell_type": "code",
   "execution_count": 68,
   "id": "86041503",
   "metadata": {},
   "outputs": [],
   "source": [
    "def gcd(A, B):\n",
    "         # Everything divides 0 \n",
    "        if (B == 0):\n",
    "            return A\n",
    "        return gcd(B, A%B)"
   ]
  },
  {
   "cell_type": "code",
   "execution_count": 70,
   "id": "c5525306",
   "metadata": {},
   "outputs": [
    {
     "data": {
      "text/plain": [
       "8"
      ]
     },
     "execution_count": 70,
     "metadata": {},
     "output_type": "execute_result"
    }
   ],
   "source": [
    "gcd(8,80)"
   ]
  },
  {
   "cell_type": "code",
   "execution_count": 71,
   "id": "29d985f8",
   "metadata": {},
   "outputs": [
    {
     "data": {
      "text/plain": [
       "59"
      ]
     },
     "execution_count": 71,
     "metadata": {},
     "output_type": "execute_result"
    }
   ],
   "source": [
    "59%96"
   ]
  },
  {
   "cell_type": "code",
   "execution_count": 72,
   "id": "425f0a43",
   "metadata": {},
   "outputs": [
    {
     "data": {
      "text/plain": [
       "37"
      ]
     },
     "execution_count": 72,
     "metadata": {},
     "output_type": "execute_result"
    }
   ],
   "source": [
    "96%59"
   ]
  },
  {
   "cell_type": "code",
   "execution_count": 73,
   "id": "fd5d4097",
   "metadata": {},
   "outputs": [],
   "source": [
    "def modInverse(A, M):\n",
    " \n",
    "    for X in range(1, M):\n",
    "        if ((A*X) % M == 1):\n",
    "            return X"
   ]
  },
  {
   "cell_type": "code",
   "execution_count": 75,
   "id": "eb788f31",
   "metadata": {},
   "outputs": [
    {
     "data": {
      "text/plain": [
       "12"
      ]
     },
     "execution_count": 75,
     "metadata": {},
     "output_type": "execute_result"
    }
   ],
   "source": [
    "modInverse(10,17)"
   ]
  },
  {
   "cell_type": "code",
   "execution_count": 78,
   "id": "a298c166",
   "metadata": {},
   "outputs": [
    {
     "name": "stdout",
     "output_type": "stream",
     "text": [
      "50\n"
     ]
    }
   ],
   "source": [
    "class A(object):\n",
    "    def f(x):\n",
    "        print(10*x)\n",
    "A.f(5)"
   ]
  },
  {
   "cell_type": "code",
   "execution_count": 79,
   "id": "b1666a87",
   "metadata": {},
   "outputs": [
    {
     "name": "stdout",
     "output_type": "stream",
     "text": [
      "50\n"
     ]
    }
   ],
   "source": [
    "class A(object):\n",
    "    @staticmethod\n",
    "    def f(x):\n",
    "        print(10*x)\n",
    "A.f(5)"
   ]
  },
  {
   "cell_type": "code",
   "execution_count": 80,
   "id": "b1ab491f",
   "metadata": {},
   "outputs": [
    {
     "name": "stdout",
     "output_type": "stream",
     "text": [
      "50\n"
     ]
    }
   ],
   "source": [
    "class A(object):\n",
    "    def f(self,x):\n",
    "        print(10*x)\n",
    "a=A()\n",
    "a.f(5)"
   ]
  },
  {
   "cell_type": "code",
   "execution_count": 81,
   "id": "2813a1ba",
   "metadata": {},
   "outputs": [
    {
     "name": "stdout",
     "output_type": "stream",
     "text": [
      "50\n"
     ]
    }
   ],
   "source": [
    "class A():\n",
    "    def f(self,x):\n",
    "        print(10*x)\n",
    "a=A()\n",
    "a.f(5)"
   ]
  },
  {
   "cell_type": "code",
   "execution_count": 85,
   "id": "5460eff5",
   "metadata": {},
   "outputs": [
    {
     "ename": "TypeError",
     "evalue": "format() argument 2 must be str, not int",
     "output_type": "error",
     "traceback": [
      "\u001b[1;31m---------------------------------------------------------------------------\u001b[0m",
      "\u001b[1;31mTypeError\u001b[0m                                 Traceback (most recent call last)",
      "Input \u001b[1;32mIn [85]\u001b[0m, in \u001b[0;36m<cell line: 10>\u001b[1;34m()\u001b[0m\n\u001b[0;32m      8\u001b[0m obj2\u001b[38;5;241m=\u001b[39m python(\u001b[38;5;241m1\u001b[39m)\n\u001b[0;32m      9\u001b[0m obj1\u001b[38;5;241m.\u001b[39mc \u001b[38;5;241m=\u001b[39m\u001b[38;5;241m2\u001b[39m\n\u001b[1;32m---> 10\u001b[0m \u001b[43mobj1\u001b[49m\u001b[38;5;241;43m.\u001b[39;49m\u001b[43mdisplay\u001b[49m\u001b[43m(\u001b[49m\u001b[43m)\u001b[49m\n",
      "Input \u001b[1;32mIn [85]\u001b[0m, in \u001b[0;36mpython.display\u001b[1;34m(self)\u001b[0m\n\u001b[0;32m      5\u001b[0m \u001b[38;5;28;01mdef\u001b[39;00m \u001b[38;5;21mdisplay\u001b[39m(\u001b[38;5;28mself\u001b[39m):\n\u001b[1;32m----> 6\u001b[0m     \u001b[38;5;28mprint\u001b[39m(\u001b[38;5;124m'\u001b[39m\u001b[38;5;124mHI\u001b[39m\u001b[38;5;124m'\u001b[39m\u001b[38;5;241m.\u001b[39mcapitalize(\u001b[38;5;28;43mformat\u001b[39;49m\u001b[43m(\u001b[49m\u001b[38;5;28;43mself\u001b[39;49m\u001b[38;5;241;43m.\u001b[39;49m\u001b[43ma\u001b[49m\u001b[43m,\u001b[49m\u001b[38;5;28;43mself\u001b[39;49m\u001b[38;5;241;43m.\u001b[39;49m\u001b[43mb\u001b[49m\u001b[43m)\u001b[49m))\n",
      "\u001b[1;31mTypeError\u001b[0m: format() argument 2 must be str, not int"
     ]
    }
   ],
   "source": [
    "class python:\n",
    "    def __init__(self,a,b=1):\n",
    "        self.a=a\n",
    "        self.b=b\n",
    "    def display(self):\n",
    "        print('HI'.capitalize(format(self.a,self.b)))\n",
    "obj1= python(5,10)\n",
    "obj2= python(1)\n",
    "obj1.c =2\n",
    "obj1.display()"
   ]
  },
  {
   "cell_type": "code",
   "execution_count": 86,
   "id": "4126c260",
   "metadata": {},
   "outputs": [
    {
     "name": "stdout",
     "output_type": "stream",
     "text": [
      "[9, 4, 1, 3]\n"
     ]
    }
   ],
   "source": [
    "lst= [2,4,1,3]\n",
    "new= lst\n",
    "\n",
    "lst[0]=9\n",
    "print(new)"
   ]
  },
  {
   "cell_type": "code",
   "execution_count": 87,
   "id": "b05dcaf7",
   "metadata": {},
   "outputs": [],
   "source": [
    "from collections import defaultdict\n",
    "graph = defaultdict(list)"
   ]
  },
  {
   "cell_type": "code",
   "execution_count": 88,
   "id": "e457672d",
   "metadata": {},
   "outputs": [
    {
     "data": {
      "text/plain": [
       "defaultdict(list, {})"
      ]
     },
     "execution_count": 88,
     "metadata": {},
     "output_type": "execute_result"
    }
   ],
   "source": [
    "graph"
   ]
  },
  {
   "cell_type": "code",
   "execution_count": 92,
   "id": "d8c6e97f",
   "metadata": {},
   "outputs": [
    {
     "name": "stdout",
     "output_type": "stream",
     "text": [
      "Length of LCS is  1\n"
     ]
    }
   ],
   "source": [
    "def lcs(X, Y, m, n):\n",
    " \n",
    "    global arr\n",
    " \n",
    "    # base case\n",
    "    if (m == 0 or n == 0):\n",
    "        return 0\n",
    " \n",
    "    # if the same state has already been\n",
    "    # computed\n",
    "    if (arr[m - 1][n - 1] != -1):\n",
    "        return arr[m - 1][n - 1]\n",
    " \n",
    "    # if equal, then we store the value of the\n",
    "    # function call\n",
    "    if (X[m - 1] == Y[n - 1]):\n",
    " \n",
    "        # store it in arr to avoid further repetitive\n",
    "        # work in future function calls\n",
    "        arr[m - 1][n - 1] = 1 + lcs(X, Y, m - 1, n - 1)\n",
    "        return arr[m - 1][n - 1]\n",
    " \n",
    "    else:\n",
    " \n",
    "        # store it in arr to avoid further repetitive\n",
    "        # work in future function calls\n",
    "        arr[m - 1][n - 1] = max(lcs(X, Y, m, n - 1),\n",
    "                                lcs(X, Y, m - 1, n))\n",
    "        return arr[m - 1][n - 1]\n",
    " \n",
    " \n",
    "# Driver code\n",
    " \n",
    "arr = [[0]*1000]*1000\n",
    " \n",
    "for i in range(0, 1000):\n",
    "    for j in range(0, 1000):\n",
    "        arr[i][j] = -1\n",
    "        \n",
    "X = \"RQEWZCB\"\n",
    "Y = \"GXTXAYB\"\n",
    " \n",
    "m = len(X)\n",
    "n = len(Y)\n",
    " \n",
    "print(\"Length of LCS is \", lcs(X, Y, m, n))\n",
    " "
   ]
  },
  {
   "cell_type": "code",
   "execution_count": 99,
   "id": "b6a310ae",
   "metadata": {},
   "outputs": [
    {
     "name": "stdout",
     "output_type": "stream",
     "text": [
      "0\n",
      "1\n",
      "2\n",
      "3\n",
      "4\n",
      "5\n",
      "6\n",
      "7\n",
      "8\n",
      "9\n",
      "10\n",
      "11\n",
      "12\n",
      "13\n",
      "14\n",
      "15\n",
      "16\n",
      "17\n",
      "18\n",
      "19\n",
      "20\n",
      "21\n",
      "22\n",
      "23\n",
      "24\n",
      "25\n",
      "26\n",
      "27\n",
      "28\n",
      "29\n",
      "30\n",
      "31\n"
     ]
    }
   ],
   "source": [
    "n=5\n",
    "for i in range(0,(1 << n)):\n",
    "    print(i)"
   ]
  },
  {
   "cell_type": "code",
   "execution_count": 104,
   "id": "f115359f",
   "metadata": {},
   "outputs": [
    {
     "name": "stdout",
     "output_type": "stream",
     "text": [
      "7 19 21 49 22 52 57 116 "
     ]
    }
   ],
   "source": [
    "def SumOverSubsets(a, n):\n",
    " \n",
    "    # array to store\n",
    "    # the SumOverSubsets\n",
    "    sos = [0] * (1 << n)\n",
    "     \n",
    "    # iterate for all possible x\n",
    "    for x in range(0,(1 << n)):\n",
    "     \n",
    "        # iterate for all\n",
    "        # possible bitwise subsets\n",
    "        for i in range(0,(1 << n)): \n",
    "     \n",
    "            # if i is a bitwise subset of x\n",
    "            if ((x & i) == i):\n",
    "                sos[x] += a[i]\n",
    "             \n",
    "     \n",
    "     \n",
    "    # printa all the subsets\n",
    "    for i in range(0,(1 << n)):\n",
    "        print(sos[i],end = \" \")\n",
    " \n",
    " \n",
    "# Driver Code\n",
    "a = [7, 12, 14, 16,15,18, 21, 13]\n",
    "n = 3\n",
    "SumOverSubsets(a, n)"
   ]
  },
  {
   "cell_type": "code",
   "execution_count": 112,
   "id": "58f016ee",
   "metadata": {},
   "outputs": [],
   "source": [
    "import numpy as np"
   ]
  },
  {
   "cell_type": "code",
   "execution_count": 119,
   "id": "0dcbeec1",
   "metadata": {},
   "outputs": [
    {
     "name": "stdout",
     "output_type": "stream",
     "text": [
      "1\n",
      "6\n"
     ]
    }
   ],
   "source": [
    "X='abcd'\n",
    "Y='asgf'\n",
    "m=len(X)\n",
    "n=len(Y)\n",
    "\n",
    "def lcs(X, Y, m, n):\n",
    "    if (m == 0 or n == 0):\n",
    "        return 0;\n",
    "    if (X[m - 1] == Y[n - 1]):\n",
    "        return 1 + lcs(X, Y, m - 1, n - 1);\n",
    "    else:\n",
    "        return max(lcs(X, Y, m, n - 1),\n",
    "                  lcs(X, Y, m - 1, n))\n",
    "p=lcs(X,Y,m,n)\n",
    "print(p)\n",
    "print((m-p)+(n-p))"
   ]
  },
  {
   "cell_type": "code",
   "execution_count": 106,
   "id": "e2d681ef",
   "metadata": {},
   "outputs": [
    {
     "data": {
      "text/plain": [
       "'b'"
      ]
     },
     "execution_count": 106,
     "metadata": {},
     "output_type": "execute_result"
    }
   ],
   "source": [
    "s[1]"
   ]
  },
  {
   "cell_type": "code",
   "execution_count": 125,
   "id": "5434fe55",
   "metadata": {},
   "outputs": [],
   "source": [
    "keys = [\"the\",\"a\",\"there\",\"anaswe\",\"any\",\n",
    "            \"by\",\"their\"]"
   ]
  },
  {
   "cell_type": "code",
   "execution_count": 126,
   "id": "4a19e2ff",
   "metadata": {},
   "outputs": [
    {
     "data": {
      "text/plain": [
       "7"
      ]
     },
     "execution_count": 126,
     "metadata": {},
     "output_type": "execute_result"
    }
   ],
   "source": [
    "len(keys)"
   ]
  },
  {
   "cell_type": "code",
   "execution_count": 127,
   "id": "40d2c3ba",
   "metadata": {},
   "outputs": [
    {
     "data": {
      "text/plain": [
       "'the'"
      ]
     },
     "execution_count": 127,
     "metadata": {},
     "output_type": "execute_result"
    }
   ],
   "source": [
    "keys[0]"
   ]
  },
  {
   "cell_type": "code",
   "execution_count": 128,
   "id": "d70705b2",
   "metadata": {},
   "outputs": [],
   "source": [
    "import math"
   ]
  },
  {
   "cell_type": "code",
   "execution_count": 129,
   "id": "94bdb838",
   "metadata": {},
   "outputs": [
    {
     "data": {
      "text/plain": [
       "1386927360"
      ]
     },
     "execution_count": 129,
     "metadata": {},
     "output_type": "execute_result"
    }
   ],
   "source": [
    "math.prod(a)"
   ]
  },
  {
   "cell_type": "code",
   "execution_count": 130,
   "id": "19d19504",
   "metadata": {},
   "outputs": [
    {
     "ename": "AttributeError",
     "evalue": "'list' object has no attribute 'drop'",
     "output_type": "error",
     "traceback": [
      "\u001b[1;31m---------------------------------------------------------------------------\u001b[0m",
      "\u001b[1;31mAttributeError\u001b[0m                            Traceback (most recent call last)",
      "Input \u001b[1;32mIn [130]\u001b[0m, in \u001b[0;36m<cell line: 1>\u001b[1;34m()\u001b[0m\n\u001b[1;32m----> 1\u001b[0m \u001b[43ma\u001b[49m\u001b[38;5;241;43m.\u001b[39;49m\u001b[43mdrop\u001b[49m(\u001b[38;5;241m7\u001b[39m)\n",
      "\u001b[1;31mAttributeError\u001b[0m: 'list' object has no attribute 'drop'"
     ]
    }
   ],
   "source": [
    "a.remove()"
   ]
  },
  {
   "cell_type": "code",
   "execution_count": 132,
   "id": "0bc01ba8",
   "metadata": {},
   "outputs": [],
   "source": [
    "def threeDivisors(query, q):\n",
    "    arr=[0]*q\n",
    "    for i in range(q):\n",
    "        for j in range(query[i]):\n",
    "            a=0\n",
    "            for k in range(1,j+1):\n",
    "                if j%k==0:\n",
    "                    a+=1\n",
    "                if a==3:\n",
    "                    arr[i]+=1 \n",
    "    for i in range(0,q):\n",
    "        return(arr[i])"
   ]
  },
  {
   "cell_type": "code",
   "execution_count": 133,
   "id": "af0231e7",
   "metadata": {},
   "outputs": [
    {
     "ename": "TypeError",
     "evalue": "'int' object is not subscriptable",
     "output_type": "error",
     "traceback": [
      "\u001b[1;31m---------------------------------------------------------------------------\u001b[0m",
      "\u001b[1;31mTypeError\u001b[0m                                 Traceback (most recent call last)",
      "Input \u001b[1;32mIn [133]\u001b[0m, in \u001b[0;36m<cell line: 1>\u001b[1;34m()\u001b[0m\n\u001b[1;32m----> 1\u001b[0m \u001b[43mthreeDivisors\u001b[49m\u001b[43m(\u001b[49m\u001b[38;5;241;43m1\u001b[39;49m\u001b[43m,\u001b[49m\u001b[38;5;241;43m6\u001b[39;49m\u001b[43m)\u001b[49m\n",
      "Input \u001b[1;32mIn [132]\u001b[0m, in \u001b[0;36mthreeDivisors\u001b[1;34m(query, q)\u001b[0m\n\u001b[0;32m      2\u001b[0m arr\u001b[38;5;241m=\u001b[39m[\u001b[38;5;241m0\u001b[39m]\u001b[38;5;241m*\u001b[39mq\n\u001b[0;32m      3\u001b[0m \u001b[38;5;28;01mfor\u001b[39;00m i \u001b[38;5;129;01min\u001b[39;00m \u001b[38;5;28mrange\u001b[39m(q):\n\u001b[1;32m----> 4\u001b[0m     \u001b[38;5;28;01mfor\u001b[39;00m j \u001b[38;5;129;01min\u001b[39;00m \u001b[38;5;28mrange\u001b[39m(\u001b[43mquery\u001b[49m\u001b[43m[\u001b[49m\u001b[43mi\u001b[49m\u001b[43m]\u001b[49m):\n\u001b[0;32m      5\u001b[0m         a\u001b[38;5;241m=\u001b[39m\u001b[38;5;241m0\u001b[39m\n\u001b[0;32m      6\u001b[0m         \u001b[38;5;28;01mfor\u001b[39;00m k \u001b[38;5;129;01min\u001b[39;00m \u001b[38;5;28mrange\u001b[39m(\u001b[38;5;241m1\u001b[39m,j\u001b[38;5;241m+\u001b[39m\u001b[38;5;241m1\u001b[39m):\n",
      "\u001b[1;31mTypeError\u001b[0m: 'int' object is not subscriptable"
     ]
    }
   ],
   "source": [
    "threeDivisors(1,6)"
   ]
  },
  {
   "cell_type": "code",
   "execution_count": null,
   "id": "21413716",
   "metadata": {},
   "outputs": [],
   "source": []
  }
 ],
 "metadata": {
  "kernelspec": {
   "display_name": "Python 3 (ipykernel)",
   "language": "python",
   "name": "python3"
  },
  "language_info": {
   "codemirror_mode": {
    "name": "ipython",
    "version": 3
   },
   "file_extension": ".py",
   "mimetype": "text/x-python",
   "name": "python",
   "nbconvert_exporter": "python",
   "pygments_lexer": "ipython3",
   "version": "3.9.12"
  }
 },
 "nbformat": 4,
 "nbformat_minor": 5
}
