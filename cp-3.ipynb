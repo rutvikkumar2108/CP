{
 "cells": [
  {
   "cell_type": "code",
   "execution_count": null,
   "id": "52c92639",
   "metadata": {},
   "outputs": [],
   "source": [
    "from itertools import accumulate "
   ]
  },
  {
   "cell_type": "code",
   "execution_count": null,
   "id": "528f3dd1",
   "metadata": {},
   "outputs": [],
   "source": [
    "list(accumulate(nums))"
   ]
  },
  {
   "cell_type": "code",
   "execution_count": null,
   "id": "00c644ed",
   "metadata": {},
   "outputs": [],
   "source": [
    "nums=[-2, 0, 3, -5, 2, -1]"
   ]
  },
  {
   "cell_type": "code",
   "execution_count": null,
   "id": "cf2456f1",
   "metadata": {},
   "outputs": [],
   "source": [
    "def findWords(word):\n",
    "        k=[]\n",
    "        for i in word:\n",
    "            i=str(i)\n",
    "            if len(i)==1:\n",
    "                k.append(i)\n",
    "            if i[0].lower() in \"qwertyuiop\":\n",
    "                for j in range(len(i[1:])):\n",
    "                    if j==len(i[1:])-1:\n",
    "                        if i[j+1] in \"qwertyuiop\":\n",
    "                            print(len[i])\n",
    "                            k.append(i)\n",
    "                    else:\n",
    "                        if i[j+1] not in \"qwertyuiop\":\n",
    "                            break\n",
    "            elif i[0].lower() in \"asdfghjkl\":\n",
    "                for j in range(len(i[1:])):\n",
    "                    if j==len(i[1:])-1:\n",
    "                        if i[j+1] in \"asdfghjkl\":\n",
    "                            k.append(i)\n",
    "                    else:\n",
    "                        if i[j+1] not in \"asdfghjkl\":\n",
    "                            break\n",
    "            else:\n",
    "                for j in range(len(i[1:])):\n",
    "                    if j==len(i[1:])-1:\n",
    "                        if i[j+1] in \"zxcvbnm\": \n",
    "                            k.append(i)\n",
    "                    else:\n",
    "                        if i[j+1] not in \"zxcvbnm\":\n",
    "                            break\n",
    "        return k"
   ]
  },
  {
   "cell_type": "code",
   "execution_count": null,
   "id": "63af2240",
   "metadata": {},
   "outputs": [],
   "source": [
    "findWords([\"qz\"])"
   ]
  },
  {
   "cell_type": "code",
   "execution_count": null,
   "id": "f81cd434",
   "metadata": {},
   "outputs": [],
   "source": [
    "i=['qz','Awefwrf','sadfGsdfg']"
   ]
  },
  {
   "cell_type": "code",
   "execution_count": null,
   "id": "f9266839",
   "metadata": {},
   "outputs": [],
   "source": [
    "i[0].lower() "
   ]
  },
  {
   "cell_type": "code",
   "execution_count": null,
   "id": "21aba38d",
   "metadata": {},
   "outputs": [],
   "source": [
    "len(i)"
   ]
  },
  {
   "cell_type": "code",
   "execution_count": null,
   "id": "12272c3b",
   "metadata": {},
   "outputs": [],
   "source": [
    "len(i[1:])"
   ]
  },
  {
   "cell_type": "code",
   "execution_count": null,
   "id": "9db35aa7",
   "metadata": {},
   "outputs": [],
   "source": [
    "for j in i:\n",
    "    j.lower()\n",
    "    print(i)"
   ]
  },
  {
   "cell_type": "code",
   "execution_count": null,
   "id": "e1da4f78",
   "metadata": {},
   "outputs": [],
   "source": [
    "m1=str('qwertyuiop')"
   ]
  },
  {
   "cell_type": "markdown",
   "id": "13a6736c",
   "metadata": {},
   "source": [
    "m1"
   ]
  },
  {
   "cell_type": "code",
   "execution_count": null,
   "id": "f9ec6e60",
   "metadata": {},
   "outputs": [],
   "source": [
    "m1"
   ]
  },
  {
   "cell_type": "code",
   "execution_count": 1,
   "id": "0519e441",
   "metadata": {},
   "outputs": [],
   "source": [
    "def canPlaceFlowers(flowerbed, n):\n",
    "        i=0\n",
    "        while i<len(flowerbed):\n",
    "            if i==0:\n",
    "                if flowerbed[0]==1:\n",
    "                    i=i+2\n",
    "                    print(n)\n",
    "                else:\n",
    "                    if flowerbed[i+1]==1:\n",
    "                        i+=3\n",
    "                    else:\n",
    "                        n-=1\n",
    "                        print(n)\n",
    "                        i+=1\n",
    "            if i==len(flowerbed)-1:\n",
    "                if flowerbed[i]==0 and flowerbed[i-1]==0:\n",
    "                    n-=1\n",
    "                    print(n)\n",
    "                break\n",
    "            else:\n",
    "                if flowerbed[i]==0 and flowerbed[i-1]==0 and flowerbed[i+1]==0:\n",
    "                    n-=1\n",
    "                    print(n)\n",
    "                i+=2\n",
    "        if n>0:\n",
    "            return False\n",
    "        else:\n",
    "            return True"
   ]
  },
  {
   "cell_type": "code",
   "execution_count": 2,
   "id": "f508f144",
   "metadata": {},
   "outputs": [
    {
     "name": "stdout",
     "output_type": "stream",
     "text": [
      "2\n",
      "1\n"
     ]
    },
    {
     "data": {
      "text/plain": [
       "False"
      ]
     },
     "execution_count": 2,
     "metadata": {},
     "output_type": "execute_result"
    }
   ],
   "source": [
    "canPlaceFlowers([1,0,0,0,1], 2)"
   ]
  },
  {
   "cell_type": "code",
   "execution_count": 3,
   "id": "9e57d16d",
   "metadata": {},
   "outputs": [],
   "source": [
    "k=[1,0,0,0,1]"
   ]
  },
  {
   "cell_type": "code",
   "execution_count": 4,
   "id": "279ecb2d",
   "metadata": {},
   "outputs": [
    {
     "data": {
      "text/plain": [
       "[1, 0, 0, 0]"
      ]
     },
     "execution_count": 4,
     "metadata": {},
     "output_type": "execute_result"
    }
   ],
   "source": [
    "k[0:-1]"
   ]
  },
  {
   "cell_type": "code",
   "execution_count": 5,
   "id": "595ea96e",
   "metadata": {},
   "outputs": [
    {
     "data": {
      "text/plain": [
       "1"
      ]
     },
     "execution_count": 5,
     "metadata": {},
     "output_type": "execute_result"
    }
   ],
   "source": [
    "k[-1]"
   ]
  },
  {
   "cell_type": "code",
   "execution_count": 6,
   "id": "f6ad051a",
   "metadata": {},
   "outputs": [],
   "source": [
    "k=[0]"
   ]
  },
  {
   "cell_type": "code",
   "execution_count": 7,
   "id": "aa00a10e",
   "metadata": {},
   "outputs": [
    {
     "data": {
      "text/plain": [
       "0"
      ]
     },
     "execution_count": 7,
     "metadata": {},
     "output_type": "execute_result"
    }
   ],
   "source": [
    "k[-1]"
   ]
  },
  {
   "cell_type": "code",
   "execution_count": 8,
   "id": "03c2d863",
   "metadata": {},
   "outputs": [],
   "source": [
    "k=[]"
   ]
  },
  {
   "cell_type": "code",
   "execution_count": 9,
   "id": "ac119891",
   "metadata": {},
   "outputs": [
    {
     "data": {
      "text/plain": [
       "0"
      ]
     },
     "execution_count": 9,
     "metadata": {},
     "output_type": "execute_result"
    }
   ],
   "source": [
    "sum(k)"
   ]
  },
  {
   "cell_type": "code",
   "execution_count": 46,
   "id": "12c3e308",
   "metadata": {},
   "outputs": [],
   "source": [
    "matrix = [[1, 2, 3, 4],\n",
    "       [5, 1, 2, 3],\n",
    "       [9, 5, 1, 2]]"
   ]
  },
  {
   "cell_type": "code",
   "execution_count": 18,
   "id": "8872074c",
   "metadata": {},
   "outputs": [],
   "source": [
    "import numpy as np"
   ]
  },
  {
   "cell_type": "code",
   "execution_count": 48,
   "id": "38f39630",
   "metadata": {},
   "outputs": [],
   "source": [
    "a=np.array(matrix)"
   ]
  },
  {
   "cell_type": "code",
   "execution_count": 13,
   "id": "b16acbf8",
   "metadata": {},
   "outputs": [
    {
     "ename": "TypeError",
     "evalue": "only integer scalar arrays can be converted to a scalar index",
     "output_type": "error",
     "traceback": [
      "\u001b[1;31m---------------------------------------------------------------------------\u001b[0m",
      "\u001b[1;31mTypeError\u001b[0m                                 Traceback (most recent call last)",
      "Input \u001b[1;32mIn [13]\u001b[0m, in \u001b[0;36m<cell line: 1>\u001b[1;34m()\u001b[0m\n\u001b[1;32m----> 1\u001b[0m \u001b[43ma\u001b[49m\u001b[38;5;241;43m.\u001b[39;49m\u001b[43mreshape\u001b[49m\u001b[43m(\u001b[49m\u001b[43ma\u001b[49m\u001b[43m,\u001b[49m\u001b[43m(\u001b[49m\u001b[38;5;28;43mlen\u001b[39;49m\u001b[43m(\u001b[49m\u001b[43mmatrix\u001b[49m\u001b[43m)\u001b[49m\u001b[43m,\u001b[49m\u001b[38;5;28;43mlen\u001b[39;49m\u001b[43m(\u001b[49m\u001b[43mmatrix\u001b[49m\u001b[43m[\u001b[49m\u001b[38;5;241;43m0\u001b[39;49m\u001b[43m]\u001b[49m\u001b[43m)\u001b[49m\u001b[43m)\u001b[49m\u001b[43m)\u001b[49m\n",
      "\u001b[1;31mTypeError\u001b[0m: only integer scalar arrays can be converted to a scalar index"
     ]
    }
   ],
   "source": [
    "a.reshape(a,(len(matrix),len(matrix[0])))"
   ]
  },
  {
   "cell_type": "code",
   "execution_count": 36,
   "id": "92b6ca52",
   "metadata": {},
   "outputs": [
    {
     "data": {
      "text/plain": [
       "array([[73, 63, 66,  0, 85, 82, 25, 74],\n",
       "       [48, 73, 63, 66, 88, 85, 82, 25]])"
      ]
     },
     "execution_count": 36,
     "metadata": {},
     "output_type": "execute_result"
    }
   ],
   "source": [
    "a"
   ]
  },
  {
   "cell_type": "code",
   "execution_count": 45,
   "id": "7901fdbe",
   "metadata": {},
   "outputs": [
    {
     "data": {
      "text/plain": [
       "array([[1, 2, 3, 4],\n",
       "       [5, 1, 2, 3],\n",
       "       [9, 5, 1, 2]])"
      ]
     },
     "execution_count": 45,
     "metadata": {},
     "output_type": "execute_result"
    }
   ],
   "source": [
    "a.T"
   ]
  },
  {
   "cell_type": "code",
   "execution_count": 16,
   "id": "7e49758a",
   "metadata": {},
   "outputs": [],
   "source": [
    "a=list(a)"
   ]
  },
  {
   "cell_type": "code",
   "execution_count": 17,
   "id": "06ce3efa",
   "metadata": {},
   "outputs": [
    {
     "data": {
      "text/plain": [
       "[array([1, 2, 3, 4]), array([5, 1, 2, 3]), array([9, 5, 1, 2])]"
      ]
     },
     "execution_count": 17,
     "metadata": {},
     "output_type": "execute_result"
    }
   ],
   "source": [
    "a"
   ]
  },
  {
   "cell_type": "code",
   "execution_count": 29,
   "id": "5aee827c",
   "metadata": {},
   "outputs": [
    {
     "data": {
      "text/plain": [
       "array([], dtype=int32)"
      ]
     },
     "execution_count": 29,
     "metadata": {},
     "output_type": "execute_result"
    }
   ],
   "source": [
    "np.diagonal(matrix,-3)"
   ]
  },
  {
   "cell_type": "code",
   "execution_count": 50,
   "id": "5be9021d",
   "metadata": {},
   "outputs": [
    {
     "name": "stdout",
     "output_type": "stream",
     "text": [
      "-2\n",
      "[9]\n",
      "-1\n",
      "[5 5]\n",
      "0\n",
      "[1 1 1]\n",
      "1\n",
      "[2 2 2]\n",
      "2\n",
      "[3 3]\n",
      "3\n",
      "[4]\n",
      "4\n",
      "[]\n"
     ]
    }
   ],
   "source": [
    "for i in range(-len(matrix)+1,len(matrix[0])+1):\n",
    "            print(i)\n",
    "            a=np.diagonal(matrix,i)\n",
    "            print(a)\n",
    "            if len(set(a))>1:\n",
    "                print(False)"
   ]
  },
  {
   "cell_type": "code",
   "execution_count": 49,
   "id": "c676feda",
   "metadata": {},
   "outputs": [
    {
     "data": {
      "text/plain": [
       "array([[1, 2, 3, 4],\n",
       "       [5, 1, 2, 3],\n",
       "       [9, 5, 1, 2]])"
      ]
     },
     "execution_count": 49,
     "metadata": {},
     "output_type": "execute_result"
    }
   ],
   "source": [
    "a"
   ]
  },
  {
   "cell_type": "code",
   "execution_count": 57,
   "id": "da51d802",
   "metadata": {},
   "outputs": [],
   "source": [
    "a=[1,2,3,4,5,6,7,8]"
   ]
  },
  {
   "cell_type": "code",
   "execution_count": 58,
   "id": "06259cbe",
   "metadata": {},
   "outputs": [
    {
     "data": {
      "text/plain": [
       "[5, 6, 7, 8]"
      ]
     },
     "execution_count": 58,
     "metadata": {},
     "output_type": "execute_result"
    }
   ],
   "source": [
    "a[4:]"
   ]
  },
  {
   "cell_type": "code",
   "execution_count": 59,
   "id": "581007ba",
   "metadata": {},
   "outputs": [
    {
     "data": {
      "text/plain": [
       "[1, 2, 3, 4]"
      ]
     },
     "execution_count": 59,
     "metadata": {},
     "output_type": "execute_result"
    }
   ],
   "source": [
    "a[0:4]"
   ]
  },
  {
   "cell_type": "code",
   "execution_count": 60,
   "id": "ae78a333",
   "metadata": {},
   "outputs": [
    {
     "data": {
      "text/plain": [
       "[1, 2, 3, 4, 5, 6, 7, 8]"
      ]
     },
     "execution_count": 60,
     "metadata": {},
     "output_type": "execute_result"
    }
   ],
   "source": [
    "a"
   ]
  },
  {
   "cell_type": "code",
   "execution_count": 62,
   "id": "2e006ad4",
   "metadata": {},
   "outputs": [
    {
     "ename": "TypeError",
     "evalue": "can only assign an iterable",
     "output_type": "error",
     "traceback": [
      "\u001b[1;31m---------------------------------------------------------------------------\u001b[0m",
      "\u001b[1;31mTypeError\u001b[0m                                 Traceback (most recent call last)",
      "Input \u001b[1;32mIn [62]\u001b[0m, in \u001b[0;36m<cell line: 1>\u001b[1;34m()\u001b[0m\n\u001b[1;32m----> 1\u001b[0m a[\u001b[38;5;241m0\u001b[39m:\u001b[38;5;241m2\u001b[39m]\u001b[38;5;241m=\u001b[39m\u001b[38;5;241m2\u001b[39m\n",
      "\u001b[1;31mTypeError\u001b[0m: can only assign an iterable"
     ]
    }
   ],
   "source": [
    "a[0:2]=2"
   ]
  },
  {
   "cell_type": "code",
   "execution_count": 63,
   "id": "2c982397",
   "metadata": {},
   "outputs": [
    {
     "name": "stdout",
     "output_type": "stream",
     "text": [
      "1\n",
      "2\n",
      "3\n"
     ]
    }
   ],
   "source": [
    "for i in range(1,4):\n",
    "    print(i)"
   ]
  },
  {
   "cell_type": "code",
   "execution_count": 64,
   "id": "583ae13f",
   "metadata": {},
   "outputs": [],
   "source": [
    "k=[]\n",
    "for i in range(1,4):\n",
    "    k.append(i)"
   ]
  },
  {
   "cell_type": "code",
   "execution_count": 65,
   "id": "763bf177",
   "metadata": {},
   "outputs": [
    {
     "data": {
      "text/plain": [
       "[1, 2, 3]"
      ]
     },
     "execution_count": 65,
     "metadata": {},
     "output_type": "execute_result"
    }
   ],
   "source": [
    "k"
   ]
  },
  {
   "cell_type": "code",
   "execution_count": 66,
   "id": "79f8b84a",
   "metadata": {},
   "outputs": [],
   "source": [
    "trust =[[1,2],[2,3]]"
   ]
  },
  {
   "cell_type": "code",
   "execution_count": 69,
   "id": "92a56a18",
   "metadata": {},
   "outputs": [
    {
     "name": "stdout",
     "output_type": "stream",
     "text": [
      "3\n"
     ]
    }
   ],
   "source": [
    "for i in range(len(trust)):\n",
    "    if trust[i][0] in k:\n",
    "        k.remove(trust[i][0])\n",
    "if len(k)==0:\n",
    "    print(-1)\n",
    "else:\n",
    "    print(k[0])"
   ]
  },
  {
   "cell_type": "code",
   "execution_count": 73,
   "id": "3d802fd4",
   "metadata": {},
   "outputs": [],
   "source": [
    "a=\"bella\"\n",
    "b=\"label\"\n",
    "c=\"roller\""
   ]
  },
  {
   "cell_type": "code",
   "execution_count": 71,
   "id": "6362e9e6",
   "metadata": {},
   "outputs": [],
   "source": [
    "a=set(a)"
   ]
  },
  {
   "cell_type": "code",
   "execution_count": 72,
   "id": "78636b34",
   "metadata": {},
   "outputs": [
    {
     "data": {
      "text/plain": [
       "{'a', 'b', 'e', 'l'}"
      ]
     },
     "execution_count": 72,
     "metadata": {},
     "output_type": "execute_result"
    }
   ],
   "source": [
    "a"
   ]
  },
  {
   "cell_type": "code",
   "execution_count": 74,
   "id": "e4fff4b0",
   "metadata": {},
   "outputs": [
    {
     "ename": "AttributeError",
     "evalue": "'str' object has no attribute 'intersection'",
     "output_type": "error",
     "traceback": [
      "\u001b[1;31m---------------------------------------------------------------------------\u001b[0m",
      "\u001b[1;31mAttributeError\u001b[0m                            Traceback (most recent call last)",
      "Input \u001b[1;32mIn [74]\u001b[0m, in \u001b[0;36m<cell line: 1>\u001b[1;34m()\u001b[0m\n\u001b[1;32m----> 1\u001b[0m \u001b[43ma\u001b[49m\u001b[38;5;241;43m.\u001b[39;49m\u001b[43mintersection\u001b[49m(b)\n",
      "\u001b[1;31mAttributeError\u001b[0m: 'str' object has no attribute 'intersection'"
     ]
    }
   ],
   "source": [
    "a.intersection(b)"
   ]
  },
  {
   "cell_type": "code",
   "execution_count": 75,
   "id": "4f97c781",
   "metadata": {},
   "outputs": [
    {
     "ename": "TypeError",
     "evalue": "unsupported operand type(s) for -: 'str' and 'str'",
     "output_type": "error",
     "traceback": [
      "\u001b[1;31m---------------------------------------------------------------------------\u001b[0m",
      "\u001b[1;31mTypeError\u001b[0m                                 Traceback (most recent call last)",
      "Input \u001b[1;32mIn [75]\u001b[0m, in \u001b[0;36m<cell line: 1>\u001b[1;34m()\u001b[0m\n\u001b[1;32m----> 1\u001b[0m \u001b[43ma\u001b[49m\u001b[38;5;241;43m-\u001b[39;49m\u001b[43mb\u001b[49m\n",
      "\u001b[1;31mTypeError\u001b[0m: unsupported operand type(s) for -: 'str' and 'str'"
     ]
    }
   ],
   "source": [
    "a-b"
   ]
  },
  {
   "cell_type": "code",
   "execution_count": 76,
   "id": "57c7bf10",
   "metadata": {},
   "outputs": [],
   "source": [
    "a=list(a)"
   ]
  },
  {
   "cell_type": "code",
   "execution_count": 77,
   "id": "62da53a7",
   "metadata": {},
   "outputs": [
    {
     "data": {
      "text/plain": [
       "['b', 'e', 'l', 'l', 'a']"
      ]
     },
     "execution_count": 77,
     "metadata": {},
     "output_type": "execute_result"
    }
   ],
   "source": [
    "a"
   ]
  },
  {
   "cell_type": "code",
   "execution_count": 78,
   "id": "d92af341",
   "metadata": {},
   "outputs": [],
   "source": [
    "b=list(b)"
   ]
  },
  {
   "cell_type": "code",
   "execution_count": 79,
   "id": "fe9a31eb",
   "metadata": {},
   "outputs": [
    {
     "data": {
      "text/plain": [
       "['l', 'a', 'b', 'e', 'l']"
      ]
     },
     "execution_count": 79,
     "metadata": {},
     "output_type": "execute_result"
    }
   ],
   "source": [
    "b"
   ]
  },
  {
   "cell_type": "code",
   "execution_count": 84,
   "id": "aa44d684",
   "metadata": {},
   "outputs": [
    {
     "ename": "TypeError",
     "evalue": "unsupported operand type(s) for &: 'list' and 'list'",
     "output_type": "error",
     "traceback": [
      "\u001b[1;31m---------------------------------------------------------------------------\u001b[0m",
      "\u001b[1;31mTypeError\u001b[0m                                 Traceback (most recent call last)",
      "Input \u001b[1;32mIn [84]\u001b[0m, in \u001b[0;36m<cell line: 1>\u001b[1;34m()\u001b[0m\n\u001b[1;32m----> 1\u001b[0m k\u001b[38;5;241m=\u001b[39m\u001b[43ma\u001b[49m\u001b[38;5;241;43m&\u001b[39;49m\u001b[43mb\u001b[49m\n",
      "\u001b[1;31mTypeError\u001b[0m: unsupported operand type(s) for &: 'list' and 'list'"
     ]
    }
   ],
   "source": [
    "k=a&b"
   ]
  },
  {
   "cell_type": "code",
   "execution_count": 85,
   "id": "d8898776",
   "metadata": {},
   "outputs": [],
   "source": [
    "nums = [2,-1,0,1,-3,3,-3]"
   ]
  },
  {
   "cell_type": "code",
   "execution_count": 88,
   "id": "0c449061",
   "metadata": {},
   "outputs": [
    {
     "data": {
      "text/plain": [
       "<itertools.accumulate at 0x26c732a46c0>"
      ]
     },
     "execution_count": 88,
     "metadata": {},
     "output_type": "execute_result"
    }
   ],
   "source": [
    "from itertools import accumulate\n",
    "accumulate(nums)"
   ]
  },
  {
   "cell_type": "code",
   "execution_count": 89,
   "id": "9c464dfb",
   "metadata": {},
   "outputs": [
    {
     "data": {
      "text/plain": [
       "[2, -1, 0, 1, -3, 3, -3]"
      ]
     },
     "execution_count": 89,
     "metadata": {},
     "output_type": "execute_result"
    }
   ],
   "source": [
    "nums"
   ]
  },
  {
   "cell_type": "code",
   "execution_count": 98,
   "id": "71768ffd",
   "metadata": {},
   "outputs": [
    {
     "name": "stdout",
     "output_type": "stream",
     "text": [
      "[2, 1, 1, 2, -1, 2, -1]\n",
      "4\n",
      "4\n"
     ]
    }
   ],
   "source": [
    "# import the itertool module \n",
    "# to work with it\n",
    "import itertools\n",
    "  \n",
    "# import operator to work \n",
    "# with operator\n",
    "import operator\n",
    "  \n",
    "# creating a list GFG\n",
    "GFG = [2,-1,0,1,-3,3,-3]\n",
    "  \n",
    "# using the itertools.accumulate() \n",
    "num1 = itertools.accumulate(GFG,operator.add)\n",
    "num1=list(num1)\n",
    "\n",
    "print(num1)\n",
    "  \n",
    "# printing each item from list\n",
    "for i in num1:\n",
    "    if i<=0:\n",
    "        print(num1.index(i))\n",
    "#for each in result:\n",
    "#    print(each)"
   ]
  },
  {
   "cell_type": "code",
   "execution_count": 99,
   "id": "ef76db2c",
   "metadata": {},
   "outputs": [
    {
     "data": {
      "text/plain": [
       "5"
      ]
     },
     "execution_count": 99,
     "metadata": {},
     "output_type": "execute_result"
    }
   ],
   "source": [
    "10//2"
   ]
  },
  {
   "cell_type": "code",
   "execution_count": 114,
   "id": "813730a2",
   "metadata": {},
   "outputs": [],
   "source": [
    "nums=[-4,-3,-2]"
   ]
  },
  {
   "cell_type": "raw",
   "id": "36c2ab9e",
   "metadata": {},
   "source": []
  },
  {
   "cell_type": "code",
   "execution_count": 104,
   "id": "42d18ba5",
   "metadata": {},
   "outputs": [],
   "source": [
    "nums.sort()"
   ]
  },
  {
   "cell_type": "markdown",
   "id": "5da2208a",
   "metadata": {},
   "source": []
  },
  {
   "cell_type": "code",
   "execution_count": 105,
   "id": "07f06e70",
   "metadata": {},
   "outputs": [
    {
     "data": {
      "text/plain": [
       "[-4, -3, -2]"
      ]
     },
     "execution_count": 105,
     "metadata": {},
     "output_type": "execute_result"
    }
   ],
   "source": [
    "nums"
   ]
  },
  {
   "cell_type": "code",
   "execution_count": 107,
   "id": "7f71d1e2",
   "metadata": {},
   "outputs": [
    {
     "data": {
      "text/plain": [
       "[-2]"
      ]
     },
     "execution_count": 107,
     "metadata": {},
     "output_type": "execute_result"
    }
   ],
   "source": [
    "nums[2:]"
   ]
  },
  {
   "cell_type": "code",
   "execution_count": 108,
   "id": "e1258600",
   "metadata": {},
   "outputs": [],
   "source": [
    "def canThreePartsEqualSum(arr):\n",
    "        left=1\n",
    "        right=len(arr)-1\n",
    "        while left<right:\n",
    "            if sum(arr[0:left])==sum(arr[left:right]) and sum(arr[left:right])==sum(arr[right:]):\n",
    "                return True\n",
    "            right-=1\n",
    "            if right==left:\n",
    "                left+=1\n",
    "                right=len(arr)-1\n",
    "        return False"
   ]
  },
  {
   "cell_type": "code",
   "execution_count": 110,
   "id": "383ee982",
   "metadata": {},
   "outputs": [],
   "source": [
    "arr =[2832,2619,-5344,2539,-2459,2988,-2989,242,5908,1250,-4149,483,3641,-2232,768,-4142,-728,6273,306,-1360,2268,-7291,7373,-3861,2543,-6069,-501,4421,-3256,6549,-4962,-2538,6669,1155,-4140,-2819,4852,-1988,2422,-3846,-2609,2279,980,-127,-3410,1129,4485,1015,-5222,6697,-2631,784,-6058,4325,-2759,1654,-3029,6925,-1863,-4177,2971,-596,-30,-285,-1051,-371,-1510,7459,-5581,3604,-2845,203,3321,-1950,-782,4509,-3446,-5275,1420,5022,386,443,-2032,170,2496,503,-5713,405,4066,591,82,-7183,-323,6006,-511,-4739,3838,1023,-1765,3669,-6927,3689,-1769,2241,3399,-5029,1342,226,2877,-4829,-3068,5608,540,412,1641,-4231,4471,-3517,1913,-162,-3491,3555,-3943,3916,-5675,5431,891,-5574,2923,-1043,3594,-3619,5175,-466,-4478,-3518,6529,-1639,2579,-1094,-5,-4307,814,-2580,812,-1564,6386,-3052,5580,-1573,-4353,606,-955,-1531,3743,-3979,-893,2281,-324,6464,-6577,-1397,4138,-622,-3257,223,2221,1316,-2608,705,3545,-3451,4206,-1409,-3671,-1227,2101,3659,-750,-1544,3442,-4518,-2519,7405,-497,-4020,480,1642,-4107,-1315,4187,1773,-5093,5834,-17,-5791,-488,7852,-2516,-5476,6213,-847,1528,-1796,-4569,4406,680,-3527,-1966,-24,3427,-2263,4161,-4381,3909,520,-3371,-651,635,2555,2278,-6631,5985,-3786,1421,-3699,1864,6527,-8597,6971,-2117,-3754,-912,124,6840,-769,-3441,2077,1617,-838,-368,-3215,6032,-2289,1738,-3079,-4848,6822,-1044,-2390,3813,-2688,-1333,-1275,4194,-1038,-1573,3031,-3538,-727,574,2810,127,-817,-4564,2442,-1131,-692,5171,-2149,-2025,1401,2608,417,-248,-248,-2245,2592,2038,-21,328,-5956,-374,-748,6430,-5,-4749,416,1032,3878,-6283,-2056,8177,-2266,-1718,1074,-3718,-753,2039,5731,-8154,-685,213,3210,1457,-1391,-68,-1680,4536,-4328,6936,-4766,-1431,4021,2146,-8707,4050,3766,-7962,1047,4058,53,-2667,-253,2248,-3982,1229,6640,-7949,4015,3704,-7525,6440,1152,-4954,-2209,2770,3247,-1680,1515,-552,1630,-7109,2485,-2304,-571,1189,6060,-574,-861,1100,5,-4223,3927,-6789,6143,-2400,562,2709,-5271,2827,-3433,3657,-797,3401,-743,-4885,4866,-6,480,-861,-3557,4942,-4933,-180,1463,1619,914,-2491,3454,-5941,3041,1421,-1410,1707,357,-1097,-3986,5490,-276,-3259,-3843,8023,-253,-7308,7490,489,-3816,3934,-83,-7400,827,2650,1512,654,-1552,-3903,5467,-562,-4909,1463,486,-627,2868,3207,-8354,4878,-635,-2425,1504,663,1618,2846,-5817,3710,-486,317,-1261,2306,1082,-4408,-453,4293,-1531,-1249,-479,3095,-7404,928,3325,1676,870,-3029,-1293,4731,191,-592,-1928,-1821,-3277,3156,1555,-276,1543,-2965,4193,-4992,-260,6102,-5485,-1680,2221,2800,-5933,7086,-5666,6105,-6621,-470,2388,3136,-6003,3178,-117,-280,-2271,5815,503,-4992,-1528,831,3482,128,1749,-365,-1534,-3848,1879,288,2901,-4547,3810,570,-3865,3852,-3471,6581,-4093,3334,-5254,3179,-38,-3210,-2843,7362,777,-6764,7110,-8129,8140,-2381,1123,-3538,3858,-1437,-4986,-979,5985,1141,-5052,393,1247,-417,-3290,3472,821,-4429,303,2418,4569,-1890,-950,-2335,5749,-422,1268,-1138,-1406,-5830,5339,-2327,2687,-4687,-562,808,-839,5753,-1934,1713,850,1514,-4410,-3556,-708,3992,-2610,1284,3262,-2945,1245,4641,-2095,628,-4376,5615,-8361,8054,-1518,-5859,6709,1207,-6929,5326,-1898,1178,-5604,2293,2127,1893,-4105,1683,3549,-1905,-5334,4641,680,-686,-1236,-242,3748,-4288,4604,-6975,7222,-7330,2164,1346,3483,-2365,-5255,-602,8616,-555,-780,5,-678,-5234,5106,69,-1674,3829,-6202,894,3086,-431,-2757,4649,-3755,690,-3897,3175,4559,-6496,1278,-2878,753,327,-189,2851,-1267,-24,3352,-3761,239,3785,-3570,-779,5853,-1064,-629,1823,574,-5489,5202,-1122,-4979,-1410,4493,-2907,937,-1391,363,-98,1974,3641,-305,-1158,-5475,7707,-2967,-1500,2666,-2737,-1513,5315,-3230,-2237,3617,-3734,-2235,2744,3230,1877,-1795,-6026,1350,4087,-3358,-2122,6623,1150,-2419,-5732,3566,764,-209,4549,-4166,750,-4794,5813,2194,-268,-1991,-740,-1990,-1686,-1158,7236,-771,-1103,-4690,5532,1787,-7691,6304,-6107,-19,350,7252,-3966,-3531,-370,7768,207,-8359,7985,-7020,12,2172,-2716,4513,-1536,3703,-7452,4009,-543,-819,-1035,1337,3633,930,-3852,3629,-5633,-560,1585,1092,393,-555,-3159,5017,1882,-6909,2416,4784,-3071,-2146,-1589,4653,-602,-5005,2476,1424,3734,-5987,637,6293,-3244,-2112,5118,-3245,-3234,5177,-6226,1569,2197,-1351,5443,-1363,-3277,-370,-3297,3387,-2104,2802,1419,-1493,-181,674,-1748,4689,-1835,2946,-4858,4249,-1180,-5306,407,3041,1630,-1590,-3820,-1198,7524,-2062,-1392,651,614,2342,-4586,-340,4872,-6034,2466,-3818,6886,-5216,1220,-692,3195,-5493,6532,-2134,135,550,-853,-3847,7371,-1092,1768,-5267,5131,-8589,3954,-2445,5415,-6327,4823,539,2320,-2955,2152,-983,-5100,4628,-714,-3023,-587,-1266,7964,-4339,4010,-4131,-2434,6401,-2734,-1694,560,3766,-5730,5383,-5762,-262,182,1764,-1515,49,1291,-1035,6608,-349,-1401,-6040,2666,-3264,967,-1145,-153,7735,-1692,809,-5670,4833,-2009,-2513,266,7023,-1439,-2100,1937,-607,-5950,7493,-6302,5578,-3069,-263,4464,-6320,5404,-2297,-2527,5481,-6682,5311,-1893,3444,-7688,-643,4204,-2933,2298,2824,-6393,7025,-5317,5186,-1614,-4017,2231,1600,1579,-3678,5601,-8899,8419,-277,-5087,2976,-3998,-1280,7384,-7531,3832,-1351,-465,-870,4334,-2791,-253,-447,3912,-2838,-2672,1768,810,4580,-7138,4081,-4735,5223,-3158,6278,-5448,5064,-5313,5373,-7818,5805,-3439,2517,-3685,5715,-5947,6888,-167,-7104,4156,-3672,5093,-6701,7070,-5113,-1609,5281,-5004,4683,2817,-2889,-4639,4922,-4227,3669,-2736,6625,-8829,3463,1711,3130,-4090,-465,3458,-4043,3036,1390,-2742,3580,-1557,-6131,1840,-412,-304,711,611,811,1007,-2446,298,-1066,2275,-3101,7965]"
   ]
  },
  {
   "cell_type": "code",
   "execution_count": 111,
   "id": "213722f1",
   "metadata": {},
   "outputs": [
    {
     "data": {
      "text/plain": [
       "False"
      ]
     },
     "execution_count": 111,
     "metadata": {},
     "output_type": "execute_result"
    }
   ],
   "source": [
    "canThreePartsEqualSum(arr)"
   ]
  },
  {
   "cell_type": "code",
   "execution_count": 113,
   "id": "93923959",
   "metadata": {},
   "outputs": [
    {
     "data": {
      "text/plain": [
       "[-4, -3]"
      ]
     },
     "execution_count": 113,
     "metadata": {},
     "output_type": "execute_result"
    }
   ],
   "source": [
    "nums[:-1]"
   ]
  },
  {
   "cell_type": "code",
   "execution_count": 115,
   "id": "f13a1bbc",
   "metadata": {},
   "outputs": [
    {
     "data": {
      "text/plain": [
       "[-3, -2]"
      ]
     },
     "execution_count": 115,
     "metadata": {},
     "output_type": "execute_result"
    }
   ],
   "source": [
    "nums[1:]"
   ]
  },
  {
   "cell_type": "code",
   "execution_count": 201,
   "id": "7d423e25",
   "metadata": {},
   "outputs": [],
   "source": [
    "mat=[[1,2,3],[4,5,6]]"
   ]
  },
  {
   "cell_type": "code",
   "execution_count": 202,
   "id": "e025b4c8",
   "metadata": {},
   "outputs": [],
   "source": [
    "mat_1=[[1,2,3],[4,5,6]]"
   ]
  },
  {
   "cell_type": "code",
   "execution_count": 203,
   "id": "d4d15171",
   "metadata": {},
   "outputs": [
    {
     "data": {
      "text/plain": [
       "[[1, 2, 3], [4, 5, 6], [1, 2, 3], [4, 5, 6]]"
      ]
     },
     "execution_count": 203,
     "metadata": {},
     "output_type": "execute_result"
    }
   ],
   "source": [
    "mat+mat_1"
   ]
  },
  {
   "cell_type": "code",
   "execution_count": 118,
   "id": "1a17f236",
   "metadata": {},
   "outputs": [],
   "source": [
    "mat[0][2]=9"
   ]
  },
  {
   "cell_type": "code",
   "execution_count": 178,
   "id": "fcf70f0e",
   "metadata": {},
   "outputs": [
    {
     "data": {
      "text/plain": [
       "[[1, 2, 3], [4, 5, 6]]"
      ]
     },
     "execution_count": 178,
     "metadata": {},
     "output_type": "execute_result"
    }
   ],
   "source": [
    "mat"
   ]
  },
  {
   "cell_type": "code",
   "execution_count": 187,
   "id": "645cc535",
   "metadata": {},
   "outputs": [
    {
     "name": "stdout",
     "output_type": "stream",
     "text": [
      "[[10, 2, 3], [4, 5, 6]]\n",
      "[[10, 10, 3], [4, 5, 6]]\n",
      "[[10, 10, 10], [4, 5, 6]]\n"
     ]
    }
   ],
   "source": [
    "for i in range(3):\n",
    "    mat[0][i]=10\n",
    "    print(mat)"
   ]
  },
  {
   "cell_type": "code",
   "execution_count": 164,
   "id": "c5a1efe4",
   "metadata": {},
   "outputs": [
    {
     "data": {
      "text/plain": [
       "[[1, 2, 3], [10, 10, 10]]"
      ]
     },
     "execution_count": 164,
     "metadata": {},
     "output_type": "execute_result"
    }
   ],
   "source": [
    "mat"
   ]
  },
  {
   "cell_type": "code",
   "execution_count": 196,
   "id": "ae7677e8",
   "metadata": {},
   "outputs": [],
   "source": [
    "def oddCells(m,n, indices):\n",
    "\n",
    "        mat=[[0]*n]*m\n",
    "        count=0\n",
    "\n",
    "        for k1 in range(len(indices)):\n",
    "            a=int(indices[k1][0])\n",
    "            b=int(indices[k1][1])\n",
    "            print(mat)\n",
    "            for j in range(n):\n",
    "                print(j)\n",
    "                print(mat[a][j])\n",
    "                print(mat)\n",
    "                mat[a][j]+=1\n",
    "            print(count)\n",
    "            print(mat)\n",
    "            \n",
    "        return count "
   ]
  },
  {
   "cell_type": "code",
   "execution_count": 197,
   "id": "6d5fd571",
   "metadata": {},
   "outputs": [
    {
     "name": "stdout",
     "output_type": "stream",
     "text": [
      "[[0, 0, 0], [0, 0, 0]]\n",
      "0\n",
      "0\n",
      "[[0, 0, 0], [0, 0, 0]]\n",
      "1\n",
      "0\n",
      "[[1, 0, 0], [1, 0, 0]]\n",
      "2\n",
      "0\n",
      "[[1, 1, 0], [1, 1, 0]]\n",
      "0\n",
      "[[1, 1, 1], [1, 1, 1]]\n",
      "[[1, 1, 1], [1, 1, 1]]\n",
      "0\n",
      "1\n",
      "[[1, 1, 1], [1, 1, 1]]\n",
      "1\n",
      "1\n",
      "[[2, 1, 1], [2, 1, 1]]\n",
      "2\n",
      "1\n",
      "[[2, 2, 1], [2, 2, 1]]\n",
      "0\n",
      "[[2, 2, 2], [2, 2, 2]]\n"
     ]
    },
    {
     "data": {
      "text/plain": [
       "0"
      ]
     },
     "execution_count": 197,
     "metadata": {},
     "output_type": "execute_result"
    }
   ],
   "source": [
    "oddCells(2,3, [[0,1],[1,1]])"
   ]
  },
  {
   "cell_type": "code",
   "execution_count": 198,
   "id": "185e1432",
   "metadata": {},
   "outputs": [],
   "source": [
    "x=[1,2,3,4,5,6]"
   ]
  },
  {
   "cell_type": "code",
   "execution_count": 199,
   "id": "d894b2b2",
   "metadata": {},
   "outputs": [],
   "source": [
    "x[3]+=1"
   ]
  },
  {
   "cell_type": "code",
   "execution_count": 200,
   "id": "45a77738",
   "metadata": {},
   "outputs": [
    {
     "data": {
      "text/plain": [
       "[1, 2, 3, 5, 5, 6]"
      ]
     },
     "execution_count": 200,
     "metadata": {},
     "output_type": "execute_result"
    }
   ],
   "source": [
    "x"
   ]
  },
  {
   "cell_type": "code",
   "execution_count": 221,
   "id": "eb9ac7ff",
   "metadata": {},
   "outputs": [],
   "source": [
    "mat=[[0]*3]*3"
   ]
  },
  {
   "cell_type": "code",
   "execution_count": 222,
   "id": "79cf0b70",
   "metadata": {},
   "outputs": [],
   "source": [
    "mat=np.array(mat)"
   ]
  },
  {
   "cell_type": "code",
   "execution_count": 230,
   "id": "a507c17e",
   "metadata": {},
   "outputs": [
    {
     "ename": "ValueError",
     "evalue": "invalid literal for int() with base 10: 'A'",
     "output_type": "error",
     "traceback": [
      "\u001b[1;31m---------------------------------------------------------------------------\u001b[0m",
      "\u001b[1;31mValueError\u001b[0m                                Traceback (most recent call last)",
      "Input \u001b[1;32mIn [230]\u001b[0m, in \u001b[0;36m<cell line: 1>\u001b[1;34m()\u001b[0m\n\u001b[1;32m----> 1\u001b[0m mat[\u001b[38;5;241m1\u001b[39m][\u001b[38;5;241m1\u001b[39m]\u001b[38;5;241m=\u001b[39m\u001b[38;5;28mstr\u001b[39m(\u001b[38;5;124m'\u001b[39m\u001b[38;5;124mA\u001b[39m\u001b[38;5;124m'\u001b[39m)\n",
      "\u001b[1;31mValueError\u001b[0m: invalid literal for int() with base 10: 'A'"
     ]
    }
   ],
   "source": [
    "mat[1][1]=str('A')"
   ]
  },
  {
   "cell_type": "code",
   "execution_count": 228,
   "id": "9bac4c53",
   "metadata": {},
   "outputs": [
    {
     "data": {
      "text/plain": [
       "array([[0, 0, 0],\n",
       "       [0, 3, 0],\n",
       "       [0, 0, 0]])"
      ]
     },
     "execution_count": 228,
     "metadata": {},
     "output_type": "execute_result"
    }
   ],
   "source": [
    "mat"
   ]
  },
  {
   "cell_type": "code",
   "execution_count": 216,
   "id": "a8316296",
   "metadata": {},
   "outputs": [
    {
     "name": "stdout",
     "output_type": "stream",
     "text": [
      "[[0, 2, 0], [4, 1, 6], [0, 8, 0]]\n"
     ]
    }
   ],
   "source": [
    "array = [[1, 2, 3], [4, 5, 6], [7, 8, 9]]\n",
    "length = len(array)\n",
    "for y in range(length):\n",
    "    for x in range(length):\n",
    "        if y % 2 and x % 2:\n",
    "            array[y][x] = 1\n",
    "        elif y % 2 == 0 and x % 2 == 0:\n",
    "            array[y][x] = 0\n",
    "print(array)"
   ]
  },
  {
   "cell_type": "code",
   "execution_count": 231,
   "id": "6231e067",
   "metadata": {},
   "outputs": [],
   "source": [
    "a=[1,2,3,4,5]"
   ]
  },
  {
   "cell_type": "code",
   "execution_count": 240,
   "id": "a939a726",
   "metadata": {},
   "outputs": [],
   "source": [
    "array = [[1, 2, 3], [4, 5, 6], [7, 8, 9]]"
   ]
  },
  {
   "cell_type": "code",
   "execution_count": 241,
   "id": "bce83d5f",
   "metadata": {},
   "outputs": [
    {
     "data": {
      "text/plain": [
       "array([3, 6, 9])"
      ]
     },
     "execution_count": 241,
     "metadata": {},
     "output_type": "execute_result"
    }
   ],
   "source": [
    "np.max(array,axis=1)"
   ]
  },
  {
   "cell_type": "code",
   "execution_count": 242,
   "id": "f79eb670",
   "metadata": {},
   "outputs": [
    {
     "data": {
      "text/plain": [
       "5"
      ]
     },
     "execution_count": 242,
     "metadata": {},
     "output_type": "execute_result"
    }
   ],
   "source": [
    "a[-1]"
   ]
  },
  {
   "cell_type": "code",
   "execution_count": 243,
   "id": "f94faa30",
   "metadata": {},
   "outputs": [],
   "source": [
    "words = [\"mass\",\"as\",\"hero\",\"superhero\"]"
   ]
  },
  {
   "cell_type": "code",
   "execution_count": 248,
   "id": "6d1f338a",
   "metadata": {},
   "outputs": [
    {
     "ename": "AttributeError",
     "evalue": "'str' object has no attribute 'StartsWith'",
     "output_type": "error",
     "traceback": [
      "\u001b[1;31m---------------------------------------------------------------------------\u001b[0m",
      "\u001b[1;31mAttributeError\u001b[0m                            Traceback (most recent call last)",
      "Input \u001b[1;32mIn [248]\u001b[0m, in \u001b[0;36m<cell line: 1>\u001b[1;34m()\u001b[0m\n\u001b[1;32m----> 1\u001b[0m \u001b[43mwords\u001b[49m\u001b[43m[\u001b[49m\u001b[38;5;241;43m3\u001b[39;49m\u001b[43m]\u001b[49m\u001b[38;5;241;43m.\u001b[39;49m\u001b[43mStartsWith\u001b[49m(words[\u001b[38;5;241m0\u001b[39m])\n",
      "\u001b[1;31mAttributeError\u001b[0m: 'str' object has no attribute 'StartsWith'"
     ]
    }
   ],
   "source": [
    "words[3].StartsWith(words[0])"
   ]
  },
  {
   "cell_type": "code",
   "execution_count": 253,
   "id": "51b9e175",
   "metadata": {},
   "outputs": [],
   "source": [
    "def stringMatching(words):\n",
    "\n",
    "        words.sort()\n",
    "        k=[]\n",
    "        print(words)\n",
    "        for i in range(len(words)-1):\n",
    "            for j in range(i+1,len(words)):\n",
    "                if words[i] in words[j]:\n",
    "                    k.append(words[i])\n",
    "        return list(set(k)) "
   ]
  },
  {
   "cell_type": "code",
   "execution_count": 254,
   "id": "56a70b2f",
   "metadata": {},
   "outputs": [
    {
     "name": "stdout",
     "output_type": "stream",
     "text": [
      "['am', 'hamlet', 'leetcode', 'leetcoder', 'od']\n"
     ]
    },
    {
     "data": {
      "text/plain": [
       "['am', 'leetcode']"
      ]
     },
     "execution_count": 254,
     "metadata": {},
     "output_type": "execute_result"
    }
   ],
   "source": [
    "stringMatching([\"leetcoder\",\"leetcode\",\"od\",\"hamlet\",\"am\"])"
   ]
  },
  {
   "cell_type": "code",
   "execution_count": 263,
   "id": "990a338f",
   "metadata": {},
   "outputs": [],
   "source": [
    "def kLengthApart(nums, k):\n",
    "\n",
    "        for i in range(len(nums)):\n",
    "            if nums[i]==1:\n",
    "                a=nums[i+1:]\n",
    "                b=nums[:i]\n",
    "                b.reverse()\n",
    "                print(a)\n",
    "                print(b)\n",
    "                c=None\n",
    "                d=None\n",
    "                if 1 in a:\n",
    "                    c=a.index(1)\n",
    "                print(c)\n",
    "                if 1 in b:\n",
    "                    d=b.index(1)\n",
    "                if c and d:\n",
    "                    if c<k or d<k:\n",
    "                        return False\n",
    "                elif c!=None and c<k:\n",
    "                    return False\n",
    "                elif d!=None and d<k:\n",
    "                    return False\n",
    "        return True\n"
   ]
  },
  {
   "cell_type": "code",
   "execution_count": 264,
   "id": "a5145b85",
   "metadata": {},
   "outputs": [
    {
     "name": "stdout",
     "output_type": "stream",
     "text": [
      "[1, 1, 0]\n",
      "[]\n",
      "0\n"
     ]
    },
    {
     "data": {
      "text/plain": [
       "False"
      ]
     },
     "execution_count": 264,
     "metadata": {},
     "output_type": "execute_result"
    }
   ],
   "source": [
    "kLengthApart([1,1,1,0], 3)"
   ]
  },
  {
   "cell_type": "code",
   "execution_count": null,
   "id": "e3fc0576",
   "metadata": {},
   "outputs": [],
   "source": []
  }
 ],
 "metadata": {
  "kernelspec": {
   "display_name": "Python 3 (ipykernel)",
   "language": "python",
   "name": "python3"
  },
  "language_info": {
   "codemirror_mode": {
    "name": "ipython",
    "version": 3
   },
   "file_extension": ".py",
   "mimetype": "text/x-python",
   "name": "python",
   "nbconvert_exporter": "python",
   "pygments_lexer": "ipython3",
   "version": "3.9.12"
  }
 },
 "nbformat": 4,
 "nbformat_minor": 5
}
