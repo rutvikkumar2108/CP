{
 "cells": [
  {
   "cell_type": "code",
   "execution_count": 1,
   "id": "f457ba06",
   "metadata": {},
   "outputs": [
    {
     "data": {
      "text/plain": [
       "1"
      ]
     },
     "execution_count": 1,
     "metadata": {},
     "output_type": "execute_result"
    }
   ],
   "source": [
    "5%2"
   ]
  },
  {
   "cell_type": "code",
   "execution_count": 5,
   "id": "c5f4748c",
   "metadata": {},
   "outputs": [
    {
     "data": {
      "text/plain": [
       "0"
      ]
     },
     "execution_count": 5,
     "metadata": {},
     "output_type": "execute_result"
    }
   ],
   "source": [
    "int(1/2)"
   ]
  },
  {
   "cell_type": "code",
   "execution_count": 7,
   "id": "abbe3d3c",
   "metadata": {},
   "outputs": [
    {
     "name": "stdout",
     "output_type": "stream",
     "text": [
      "Requirement already satisfied: numpy in c:\\users\\lenovo\\anaconda3\\lib\\site-packages (1.21.5)\n"
     ]
    }
   ],
   "source": [
    "!pip install numpy"
   ]
  },
  {
   "cell_type": "code",
   "execution_count": 8,
   "id": "2cdf92fd",
   "metadata": {},
   "outputs": [],
   "source": [
    "a=[4,5,6,3,3,1]"
   ]
  },
  {
   "cell_type": "code",
   "execution_count": 9,
   "id": "51036b1d",
   "metadata": {},
   "outputs": [],
   "source": [
    "a.sort()"
   ]
  },
  {
   "cell_type": "code",
   "execution_count": 10,
   "id": "9efa0f8b",
   "metadata": {},
   "outputs": [
    {
     "data": {
      "text/plain": [
       "[1, 3, 3, 4, 5, 6]"
      ]
     },
     "execution_count": 10,
     "metadata": {},
     "output_type": "execute_result"
    }
   ],
   "source": [
    "a"
   ]
  },
  {
   "cell_type": "code",
   "execution_count": 11,
   "id": "b27d7fd3",
   "metadata": {},
   "outputs": [],
   "source": [
    "b=[1,2,2,3,1,2]"
   ]
  },
  {
   "cell_type": "code",
   "execution_count": 14,
   "id": "bc7968e3",
   "metadata": {},
   "outputs": [],
   "source": [
    "b.sort(reverse=True)"
   ]
  },
  {
   "cell_type": "code",
   "execution_count": 15,
   "id": "b5eed4ae",
   "metadata": {},
   "outputs": [
    {
     "data": {
      "text/plain": [
       "[3, 2, 2, 2, 1, 1]"
      ]
     },
     "execution_count": 15,
     "metadata": {},
     "output_type": "execute_result"
    }
   ],
   "source": [
    "b"
   ]
  },
  {
   "cell_type": "code",
   "execution_count": 28,
   "id": "7af8fc4f",
   "metadata": {},
   "outputs": [
    {
     "ename": "TypeError",
     "evalue": "'>' not supported between instances of 'list' and 'int'",
     "output_type": "error",
     "traceback": [
      "\u001b[1;31m---------------------------------------------------------------------------\u001b[0m",
      "\u001b[1;31mTypeError\u001b[0m                                 Traceback (most recent call last)",
      "Input \u001b[1;32mIn [28]\u001b[0m, in \u001b[0;36m<cell line: 1>\u001b[1;34m()\u001b[0m\n\u001b[1;32m----> 1\u001b[0m \u001b[43mb\u001b[49m\u001b[38;5;241;43m>\u001b[39;49m\u001b[38;5;241;43m1\u001b[39;49m\n",
      "\u001b[1;31mTypeError\u001b[0m: '>' not supported between instances of 'list' and 'int'"
     ]
    }
   ],
   "source": [
    "b.index()"
   ]
  },
  {
   "cell_type": "code",
   "execution_count": 29,
   "id": "3f20f09b",
   "metadata": {},
   "outputs": [],
   "source": [
    "s=\"a\""
   ]
  },
  {
   "cell_type": "code",
   "execution_count": 35,
   "id": "b0cfe000",
   "metadata": {},
   "outputs": [
    {
     "data": {
      "text/plain": [
       "1"
      ]
     },
     "execution_count": 35,
     "metadata": {},
     "output_type": "execute_result"
    }
   ],
   "source": [
    "1%2"
   ]
  },
  {
   "cell_type": "code",
   "execution_count": 34,
   "id": "6f2bb019",
   "metadata": {},
   "outputs": [
    {
     "data": {
      "text/plain": [
       "<function str.index>"
      ]
     },
     "execution_count": 34,
     "metadata": {},
     "output_type": "execute_result"
    }
   ],
   "source": [
    "c"
   ]
  },
  {
   "cell_type": "code",
   "execution_count": 36,
   "id": "96fc0436",
   "metadata": {},
   "outputs": [],
   "source": [
    "def utopianTree(n):\n",
    "    # Write your code here\n",
    "    if n==0:\n",
    "        return 1\n",
    "    if n==1:\n",
    "        return 2\n",
    "    if n>1:\n",
    "        if n%2!=0:\n",
    "            a=utopianTree(n-1)\n",
    "            return a*a\n",
    "        if n%2==0:\n",
    "            b=utopianTree(n-1)+1\n",
    "            return b"
   ]
  },
  {
   "cell_type": "code",
   "execution_count": 37,
   "id": "53ce9b14",
   "metadata": {},
   "outputs": [
    {
     "data": {
      "text/plain": [
       "10"
      ]
     },
     "execution_count": 37,
     "metadata": {},
     "output_type": "execute_result"
    }
   ],
   "source": [
    "utopianTree(4)"
   ]
  },
  {
   "cell_type": "code",
   "execution_count": 38,
   "id": "2729b46f",
   "metadata": {},
   "outputs": [],
   "source": [
    "def angryProfessor(k, a):\n",
    "    # Write your code here\n",
    "    b=0\n",
    "    for i in range(len(a)):\n",
    "        if a[i]<=0:\n",
    "            b+=1\n",
    "    return b"
   ]
  },
  {
   "cell_type": "code",
   "execution_count": 40,
   "id": "4c398822",
   "metadata": {},
   "outputs": [
    {
     "data": {
      "text/plain": [
       "2"
      ]
     },
     "execution_count": 40,
     "metadata": {},
     "output_type": "execute_result"
    }
   ],
   "source": [
    "a=[-1,-3,4,2]\n",
    "k=3\n",
    "angryProfessor(k, a)"
   ]
  },
  {
   "cell_type": "code",
   "execution_count": 54,
   "id": "a2c34d30",
   "metadata": {},
   "outputs": [],
   "source": [
    "a=234\n",
    "b=str(a)"
   ]
  },
  {
   "cell_type": "code",
   "execution_count": 48,
   "id": "d379e0ec",
   "metadata": {},
   "outputs": [],
   "source": [
    "b=list(b)"
   ]
  },
  {
   "cell_type": "code",
   "execution_count": 50,
   "id": "8cdded48",
   "metadata": {},
   "outputs": [],
   "source": [
    "b.reverse()"
   ]
  },
  {
   "cell_type": "code",
   "execution_count": 51,
   "id": "74b80047",
   "metadata": {},
   "outputs": [
    {
     "data": {
      "text/plain": [
       "['4', '3', '2']"
      ]
     },
     "execution_count": 51,
     "metadata": {},
     "output_type": "execute_result"
    }
   ],
   "source": [
    "b"
   ]
  },
  {
   "cell_type": "code",
   "execution_count": 52,
   "id": "c99a89a4",
   "metadata": {},
   "outputs": [],
   "source": [
    "c=str(b)"
   ]
  },
  {
   "cell_type": "code",
   "execution_count": 53,
   "id": "22d8c1a3",
   "metadata": {},
   "outputs": [
    {
     "data": {
      "text/plain": [
       "\"['4', '3', '2']\""
      ]
     },
     "execution_count": 53,
     "metadata": {},
     "output_type": "execute_result"
    }
   ],
   "source": [
    "c"
   ]
  },
  {
   "cell_type": "code",
   "execution_count": 56,
   "id": "40e677b0",
   "metadata": {},
   "outputs": [
    {
     "ename": "TypeError",
     "evalue": "'str' object does not support item assignment",
     "output_type": "error",
     "traceback": [
      "\u001b[1;31m---------------------------------------------------------------------------\u001b[0m",
      "\u001b[1;31mTypeError\u001b[0m                                 Traceback (most recent call last)",
      "Input \u001b[1;32mIn [56]\u001b[0m, in \u001b[0;36m<cell line: 2>\u001b[1;34m()\u001b[0m\n\u001b[0;32m      2\u001b[0m \u001b[38;5;28;01mfor\u001b[39;00m i \u001b[38;5;129;01min\u001b[39;00m \u001b[38;5;28mrange\u001b[39m(n):\n\u001b[0;32m      3\u001b[0m     t\u001b[38;5;241m=\u001b[39mb[i]\n\u001b[1;32m----> 4\u001b[0m     b[i]\u001b[38;5;241m=\u001b[39mb[n\u001b[38;5;241m-\u001b[39mi\u001b[38;5;241m-\u001b[39m\u001b[38;5;241m1\u001b[39m]\n\u001b[0;32m      5\u001b[0m     b[n\u001b[38;5;241m-\u001b[39mi]\u001b[38;5;241m=\u001b[39mt\n",
      "\u001b[1;31mTypeError\u001b[0m: 'str' object does not support item assignment"
     ]
    }
   ],
   "source": []
  },
  {
   "cell_type": "code",
   "execution_count": 57,
   "id": "e1b6ab95",
   "metadata": {},
   "outputs": [],
   "source": [
    "a=234"
   ]
  },
  {
   "cell_type": "code",
   "execution_count": 59,
   "id": "7d49bb41",
   "metadata": {},
   "outputs": [
    {
     "data": {
      "text/plain": [
       "4"
      ]
     },
     "execution_count": 59,
     "metadata": {},
     "output_type": "execute_result"
    }
   ],
   "source": [
    "234%10"
   ]
  },
  {
   "cell_type": "code",
   "execution_count": 61,
   "id": "089e6fff",
   "metadata": {},
   "outputs": [
    {
     "data": {
      "text/plain": [
       "3"
      ]
     },
     "execution_count": 61,
     "metadata": {},
     "output_type": "execute_result"
    }
   ],
   "source": [
    "int(234/10)%10"
   ]
  },
  {
   "cell_type": "code",
   "execution_count": 62,
   "id": "cabfe0e3",
   "metadata": {},
   "outputs": [
    {
     "data": {
      "text/plain": [
       "3"
      ]
     },
     "execution_count": 62,
     "metadata": {},
     "output_type": "execute_result"
    }
   ],
   "source": [
    "len(str(234))"
   ]
  },
  {
   "cell_type": "code",
   "execution_count": 65,
   "id": "07d4b6af",
   "metadata": {},
   "outputs": [
    {
     "data": {
      "text/plain": [
       "23"
      ]
     },
     "execution_count": 65,
     "metadata": {},
     "output_type": "execute_result"
    }
   ],
   "source": [
    "int(237/10)"
   ]
  },
  {
   "cell_type": "code",
   "execution_count": 66,
   "id": "f8718911",
   "metadata": {},
   "outputs": [
    {
     "data": {
      "text/plain": [
       "2"
      ]
     },
     "execution_count": 66,
     "metadata": {},
     "output_type": "execute_result"
    }
   ],
   "source": [
    "int(23/10)"
   ]
  },
  {
   "cell_type": "code",
   "execution_count": 72,
   "id": "5d9c5b89",
   "metadata": {},
   "outputs": [
    {
     "name": "stdout",
     "output_type": "stream",
     "text": [
      "False\n"
     ]
    }
   ],
   "source": [
    "z=3\n",
    "if z==int:\n",
    "    print('TRue')\n",
    "else:\n",
    "    print('False')"
   ]
  },
  {
   "cell_type": "code",
   "execution_count": 68,
   "id": "58c97b46",
   "metadata": {},
   "outputs": [],
   "source": [
    "def inverse(x):\n",
    "        n=len(str(x))\n",
    "        if n==1:\n",
    "            return x \n",
    "        if n>=1:\n",
    "            b=(x%10)*(10**(n-1))\n",
    "            c=int(x/10)\n",
    "            return b+inverse(c) "
   ]
  },
  {
   "cell_type": "code",
   "execution_count": 71,
   "id": "46e2e45e",
   "metadata": {},
   "outputs": [
    {
     "data": {
      "text/plain": [
       "21"
      ]
     },
     "execution_count": 71,
     "metadata": {},
     "output_type": "execute_result"
    }
   ],
   "source": [
    "inverse(12)"
   ]
  },
  {
   "cell_type": "code",
   "execution_count": 9,
   "id": "0ad9d992",
   "metadata": {},
   "outputs": [
    {
     "data": {
      "text/plain": [
       "[6, 31415926535897932384626433832795, 1, 3, 10, 3, 5]"
      ]
     },
     "execution_count": 9,
     "metadata": {},
     "output_type": "execute_result"
    }
   ],
   "source": [
    "a=[6,31415926535897932384626433832795,1,3,10,3,5]\n",
    "a"
   ]
  },
  {
   "cell_type": "code",
   "execution_count": 74,
   "id": "ece46c59",
   "metadata": {},
   "outputs": [],
   "source": [
    "a.insert(0,3)"
   ]
  },
  {
   "cell_type": "code",
   "execution_count": 75,
   "id": "7a7c0fed",
   "metadata": {},
   "outputs": [
    {
     "data": {
      "text/plain": [
       "[3, 1, 3, 3, 5, 6, 10, 31415926535897932384626433832795]"
      ]
     },
     "execution_count": 75,
     "metadata": {},
     "output_type": "execute_result"
    }
   ],
   "source": [
    "a"
   ]
  },
  {
   "cell_type": "code",
   "execution_count": 78,
   "id": "f12665fa",
   "metadata": {},
   "outputs": [],
   "source": [
    "a.remove(3)"
   ]
  },
  {
   "cell_type": "code",
   "execution_count": 79,
   "id": "f4520549",
   "metadata": {},
   "outputs": [
    {
     "data": {
      "text/plain": [
       "[1, 3, 5, 6, 10, 31415926535897932384626433832795]"
      ]
     },
     "execution_count": 79,
     "metadata": {},
     "output_type": "execute_result"
    }
   ],
   "source": [
    "a"
   ]
  },
  {
   "cell_type": "code",
   "execution_count": 80,
   "id": "6ad8b013",
   "metadata": {},
   "outputs": [
    {
     "ename": "TypeError",
     "evalue": "list indices must be integers or slices, not tuple",
     "output_type": "error",
     "traceback": [
      "\u001b[1;31m---------------------------------------------------------------------------\u001b[0m",
      "\u001b[1;31mTypeError\u001b[0m                                 Traceback (most recent call last)",
      "Input \u001b[1;32mIn [80]\u001b[0m, in \u001b[0;36m<cell line: 1>\u001b[1;34m()\u001b[0m\n\u001b[1;32m----> 1\u001b[0m c\u001b[38;5;241m=\u001b[39m\u001b[43ma\u001b[49m\u001b[43m[\u001b[49m\u001b[38;5;241;43m0\u001b[39;49m\u001b[43m,\u001b[49m\u001b[38;5;241;43m3\u001b[39;49m\u001b[43m]\u001b[49m\n",
      "\u001b[1;31mTypeError\u001b[0m: list indices must be integers or slices, not tuple"
     ]
    }
   ],
   "source": [
    "c=a[0,3]"
   ]
  },
  {
   "cell_type": "code",
   "execution_count": 3,
   "id": "72b633db",
   "metadata": {},
   "outputs": [
    {
     "data": {
      "text/plain": [
       "3"
      ]
     },
     "execution_count": 3,
     "metadata": {},
     "output_type": "execute_result"
    }
   ],
   "source": [
    "19%8"
   ]
  },
  {
   "cell_type": "code",
   "execution_count": 2,
   "id": "7e55845a",
   "metadata": {},
   "outputs": [
    {
     "data": {
      "text/plain": [
       "2"
      ]
     },
     "execution_count": 2,
     "metadata": {},
     "output_type": "execute_result"
    }
   ],
   "source": [
    "2%5"
   ]
  },
  {
   "cell_type": "code",
   "execution_count": 4,
   "id": "2d04a4f0",
   "metadata": {},
   "outputs": [
    {
     "data": {
      "text/plain": [
       "27398537"
      ]
     },
     "execution_count": 4,
     "metadata": {},
     "output_type": "execute_result"
    }
   ],
   "source": [
    "380324688%352926151"
   ]
  },
  {
   "cell_type": "code",
   "execution_count": 5,
   "id": "45578dd9",
   "metadata": {},
   "outputs": [
    {
     "data": {
      "text/plain": [
       "122129406"
      ]
     },
     "execution_count": 5,
     "metadata": {},
     "output_type": "execute_result"
    }
   ],
   "source": [
    "94730870+27398537-1\n"
   ]
  },
  {
   "cell_type": "code",
   "execution_count": 10,
   "id": "50c276d2",
   "metadata": {},
   "outputs": [],
   "source": [
    "a.reverse()"
   ]
  },
  {
   "cell_type": "code",
   "execution_count": 11,
   "id": "9ba310c7",
   "metadata": {},
   "outputs": [
    {
     "data": {
      "text/plain": [
       "[5, 3, 10, 3, 1, 31415926535897932384626433832795, 6]"
      ]
     },
     "execution_count": 11,
     "metadata": {},
     "output_type": "execute_result"
    }
   ],
   "source": [
    "a"
   ]
  },
  {
   "cell_type": "code",
   "execution_count": 12,
   "id": "15714c1e",
   "metadata": {},
   "outputs": [],
   "source": [
    "a.remove(3)"
   ]
  },
  {
   "cell_type": "code",
   "execution_count": 13,
   "id": "7f542c19",
   "metadata": {},
   "outputs": [
    {
     "data": {
      "text/plain": [
       "[5, 10, 3, 1, 31415926535897932384626433832795, 6]"
      ]
     },
     "execution_count": 13,
     "metadata": {},
     "output_type": "execute_result"
    }
   ],
   "source": [
    "a"
   ]
  },
  {
   "cell_type": "code",
   "execution_count": 22,
   "id": "79921c84",
   "metadata": {},
   "outputs": [],
   "source": [
    "def circularArrayRotation(a, k, queries):\n",
    "    # Write your code here\n",
    "    n=len(a)\n",
    "    c=[]\n",
    "    for i in range(k):\n",
    "        temp=a[n-1]\n",
    "        print(temp)\n",
    "        a.reverse()\n",
    "        print(a)\n",
    "        a.remove(temp)\n",
    "        print(a)\n",
    "        a.reverse()\n",
    "        print(a)\n",
    "        a.insert(0,temp) \n",
    "        print(a)\n",
    "    for i in queries:\n",
    "        c.append(a[i])\n",
    "    return a\n"
   ]
  },
  {
   "cell_type": "code",
   "execution_count": 23,
   "id": "278ab11d",
   "metadata": {},
   "outputs": [
    {
     "name": "stdout",
     "output_type": "stream",
     "text": [
      "3\n",
      "[3, 2, 1]\n",
      "[2, 1]\n",
      "[1, 2]\n",
      "[3, 1, 2]\n",
      "2\n",
      "[2, 1, 3]\n",
      "[1, 3]\n",
      "[3, 1]\n",
      "[2, 3, 1]\n"
     ]
    },
    {
     "data": {
      "text/plain": [
       "[2, 3, 1]"
      ]
     },
     "execution_count": 23,
     "metadata": {},
     "output_type": "execute_result"
    }
   ],
   "source": [
    "a=[1,2,3]\n",
    "k=2\n",
    "queries=[0,1,2]\n",
    "circularArrayRotation(a, k, queries)"
   ]
  },
  {
   "cell_type": "code",
   "execution_count": 26,
   "id": "55210fa5",
   "metadata": {},
   "outputs": [
    {
     "name": "stdout",
     "output_type": "stream",
     "text": [
      "2\n",
      "4\n",
      "6\n"
     ]
    }
   ],
   "source": [
    "for i in range(2,8,2):\n",
    "    print(i)"
   ]
  },
  {
   "cell_type": "code",
   "execution_count": 27,
   "id": "2bb11367",
   "metadata": {},
   "outputs": [
    {
     "data": {
      "text/plain": [
       "[2, 3, 1]"
      ]
     },
     "execution_count": 27,
     "metadata": {},
     "output_type": "execute_result"
    }
   ],
   "source": [
    "a"
   ]
  },
  {
   "cell_type": "code",
   "execution_count": 28,
   "id": "aebe801c",
   "metadata": {},
   "outputs": [
    {
     "data": {
      "text/plain": [
       "[2, 3, 1, 2, 3, 1]"
      ]
     },
     "execution_count": 28,
     "metadata": {},
     "output_type": "execute_result"
    }
   ],
   "source": [
    "a+a"
   ]
  },
  {
   "cell_type": "code",
   "execution_count": 29,
   "id": "d3cb87c8",
   "metadata": {},
   "outputs": [
    {
     "data": {
      "text/plain": [
       "0"
      ]
     },
     "execution_count": 29,
     "metadata": {},
     "output_type": "execute_result"
    }
   ],
   "source": [
    "int(1/10)"
   ]
  },
  {
   "cell_type": "code",
   "execution_count": 30,
   "id": "576ff436",
   "metadata": {},
   "outputs": [
    {
     "data": {
      "text/plain": [
       "2"
      ]
     },
     "execution_count": 30,
     "metadata": {},
     "output_type": "execute_result"
    }
   ],
   "source": [
    "2%10"
   ]
  },
  {
   "cell_type": "code",
   "execution_count": 31,
   "id": "10e63b1c",
   "metadata": {},
   "outputs": [],
   "source": [
    "s='ashley'"
   ]
  },
  {
   "cell_type": "code",
   "execution_count": 32,
   "id": "b88e48af",
   "metadata": {},
   "outputs": [
    {
     "data": {
      "text/plain": [
       "6"
      ]
     },
     "execution_count": 32,
     "metadata": {},
     "output_type": "execute_result"
    }
   ],
   "source": [
    "len(s)"
   ]
  },
  {
   "cell_type": "code",
   "execution_count": 33,
   "id": "934db989",
   "metadata": {},
   "outputs": [
    {
     "ename": "AttributeError",
     "evalue": "'str' object has no attribute 'remove'",
     "output_type": "error",
     "traceback": [
      "\u001b[1;31m---------------------------------------------------------------------------\u001b[0m",
      "\u001b[1;31mAttributeError\u001b[0m                            Traceback (most recent call last)",
      "Input \u001b[1;32mIn [33]\u001b[0m, in \u001b[0;36m<cell line: 1>\u001b[1;34m()\u001b[0m\n\u001b[1;32m----> 1\u001b[0m \u001b[43ms\u001b[49m\u001b[38;5;241;43m.\u001b[39;49m\u001b[43mremove\u001b[49m(\u001b[38;5;124m'\u001b[39m\u001b[38;5;124ma\u001b[39m\u001b[38;5;124m'\u001b[39m)\n",
      "\u001b[1;31mAttributeError\u001b[0m: 'str' object has no attribute 'remove'"
     ]
    }
   ],
   "source": [
    "s.remove('a')"
   ]
  },
  {
   "cell_type": "code",
   "execution_count": 35,
   "id": "be9e75ff",
   "metadata": {},
   "outputs": [
    {
     "data": {
      "text/plain": [
       "False"
      ]
     },
     "execution_count": 35,
     "metadata": {},
     "output_type": "execute_result"
    }
   ],
   "source": [
    "s[1]==s[2]"
   ]
  },
  {
   "cell_type": "code",
   "execution_count": 37,
   "id": "466f1608",
   "metadata": {},
   "outputs": [
    {
     "data": {
      "text/plain": [
       "2.23606797749979"
      ]
     },
     "execution_count": 37,
     "metadata": {},
     "output_type": "execute_result"
    }
   ],
   "source": [
    "import math\n",
    "math.sqrt(5)"
   ]
  },
  {
   "cell_type": "code",
   "execution_count": 38,
   "id": "6ca586e0",
   "metadata": {},
   "outputs": [
    {
     "data": {
      "text/plain": [
       "1"
      ]
     },
     "execution_count": 38,
     "metadata": {},
     "output_type": "execute_result"
    }
   ],
   "source": [
    "1%4"
   ]
  },
  {
   "cell_type": "code",
   "execution_count": 39,
   "id": "4b9733d4",
   "metadata": {},
   "outputs": [
    {
     "data": {
      "text/plain": [
       "3"
      ]
     },
     "execution_count": 39,
     "metadata": {},
     "output_type": "execute_result"
    }
   ],
   "source": [
    "6//2"
   ]
  },
  {
   "cell_type": "code",
   "execution_count": 40,
   "id": "8c16f06d",
   "metadata": {},
   "outputs": [
    {
     "data": {
      "text/plain": [
       "3.0"
      ]
     },
     "execution_count": 40,
     "metadata": {},
     "output_type": "execute_result"
    }
   ],
   "source": [
    "6/2"
   ]
  },
  {
   "cell_type": "code",
   "execution_count": 41,
   "id": "089a7f88",
   "metadata": {},
   "outputs": [
    {
     "data": {
      "text/plain": [
       "3"
      ]
     },
     "execution_count": 41,
     "metadata": {},
     "output_type": "execute_result"
    }
   ],
   "source": [
    "7//2"
   ]
  },
  {
   "cell_type": "code",
   "execution_count": 44,
   "id": "b96b45b9",
   "metadata": {},
   "outputs": [
    {
     "name": "stdout",
     "output_type": "stream",
     "text": [
      "1\n"
     ]
    }
   ],
   "source": [
    "for i in range(1,2):\n",
    "    print(i)"
   ]
  },
  {
   "cell_type": "code",
   "execution_count": 49,
   "id": "dfb7a7cf",
   "metadata": {},
   "outputs": [],
   "source": [
    "s='haveaniceday'\n",
    "a=[] \n",
    "for i in s:\n",
    "    if 97<=ord(i)<=122:\n",
    "        a.append(i)"
   ]
  },
  {
   "cell_type": "code",
   "execution_count": 50,
   "id": "a860c634",
   "metadata": {},
   "outputs": [
    {
     "data": {
      "text/plain": [
       "['h', 'a', 'v', 'e', 'a', 'n', 'i', 'c', 'e', 'd', 'a', 'y']"
      ]
     },
     "execution_count": 50,
     "metadata": {},
     "output_type": "execute_result"
    }
   ],
   "source": [
    "a"
   ]
  },
  {
   "cell_type": "code",
   "execution_count": 55,
   "id": "0d543aee",
   "metadata": {},
   "outputs": [
    {
     "data": {
      "text/plain": [
       "12"
      ]
     },
     "execution_count": 55,
     "metadata": {},
     "output_type": "execute_result"
    }
   ],
   "source": [
    "len(a)"
   ]
  },
  {
   "cell_type": "code",
   "execution_count": 70,
   "id": "523c0737",
   "metadata": {},
   "outputs": [
    {
     "data": {
      "text/plain": [
       "'a'"
      ]
     },
     "execution_count": 70,
     "metadata": {},
     "output_type": "execute_result"
    }
   ],
   "source": [
    "a[1]"
   ]
  },
  {
   "cell_type": "code",
   "execution_count": 81,
   "id": "c3d04422",
   "metadata": {},
   "outputs": [
    {
     "name": "stdout",
     "output_type": "stream",
     "text": [
      "0\n",
      "0\n",
      "0\n",
      "h\n",
      "1\n",
      "0\n",
      "1\n",
      "a\n",
      "2\n",
      "0\n",
      "2\n",
      "v\n",
      "3\n",
      "0\n",
      "3\n",
      "e\n",
      "4\n",
      "1\n",
      "0\n",
      "a\n",
      "5\n",
      "1\n",
      "1\n",
      "n\n",
      "6\n",
      "1\n",
      "2\n",
      "i\n",
      "7\n",
      "1\n",
      "3\n",
      "c\n",
      "8\n",
      "2\n",
      "0\n",
      "e\n",
      "9\n",
      "2\n",
      "1\n",
      "d\n",
      "10\n",
      "2\n",
      "2\n",
      "a\n",
      "11\n",
      "2\n",
      "3\n",
      "y\n"
     ]
    }
   ],
   "source": [
    "e=[[]*3 for x in range(4)]\n",
    "k=0\n",
    "for i in range(3):\n",
    "    for j in range(4):\n",
    "        print(k)\n",
    "        print(i)\n",
    "        print(j)\n",
    "        print(a[k])\n",
    "        e[i].append(a[k]) \n",
    "        k+=1"
   ]
  },
  {
   "cell_type": "code",
   "execution_count": 82,
   "id": "9df15bd8",
   "metadata": {},
   "outputs": [
    {
     "name": "stdout",
     "output_type": "stream",
     "text": [
      "h\n",
      "a\n",
      "v\n",
      "e\n",
      "a\n",
      "n\n",
      "i\n",
      "c\n",
      "e\n",
      "d\n",
      "a\n",
      "y\n"
     ]
    }
   ],
   "source": [
    "for i in range(3):\n",
    "    for j in range(4):\n",
    "        print(e[i][j]) "
   ]
  },
  {
   "cell_type": "code",
   "execution_count": 83,
   "id": "79224d06",
   "metadata": {},
   "outputs": [
    {
     "data": {
      "text/plain": [
       "[['h', 'a', 'v', 'e'], ['a', 'n', 'i', 'c'], ['e', 'd', 'a', 'y'], []]"
      ]
     },
     "execution_count": 83,
     "metadata": {},
     "output_type": "execute_result"
    }
   ],
   "source": [
    "e"
   ]
  },
  {
   "cell_type": "code",
   "execution_count": 59,
   "id": "3b9a401c",
   "metadata": {},
   "outputs": [],
   "source": [
    "e=[0 for x in range(4)]*3"
   ]
  },
  {
   "cell_type": "code",
   "execution_count": 60,
   "id": "ec9d7548",
   "metadata": {},
   "outputs": [
    {
     "data": {
      "text/plain": [
       "[0, 0, 0, 0, 0, 0, 0, 0, 0, 0, 0, 0]"
      ]
     },
     "execution_count": 60,
     "metadata": {},
     "output_type": "execute_result"
    }
   ],
   "source": [
    "e"
   ]
  },
  {
   "cell_type": "code",
   "execution_count": 79,
   "id": "ac1a8c2a",
   "metadata": {},
   "outputs": [],
   "source": [
    "e=[[]*3 for x in range(4)]"
   ]
  },
  {
   "cell_type": "code",
   "execution_count": 80,
   "id": "c04544ab",
   "metadata": {},
   "outputs": [
    {
     "data": {
      "text/plain": [
       "[[], [], [], []]"
      ]
     },
     "execution_count": 80,
     "metadata": {},
     "output_type": "execute_result"
    }
   ],
   "source": [
    "e"
   ]
  },
  {
   "cell_type": "code",
   "execution_count": 84,
   "id": "cafae43c",
   "metadata": {},
   "outputs": [],
   "source": [
    "a=[1,2,3,4]"
   ]
  },
  {
   "cell_type": "code",
   "execution_count": 85,
   "id": "3e858943",
   "metadata": {},
   "outputs": [
    {
     "data": {
      "text/plain": [
       "[1, 2, 3, 4]"
      ]
     },
     "execution_count": 85,
     "metadata": {},
     "output_type": "execute_result"
    }
   ],
   "source": [
    "a"
   ]
  },
  {
   "cell_type": "code",
   "execution_count": 86,
   "id": "35ab8eb6",
   "metadata": {},
   "outputs": [],
   "source": [
    "a.reverse()"
   ]
  },
  {
   "cell_type": "code",
   "execution_count": 87,
   "id": "e50690a0",
   "metadata": {},
   "outputs": [
    {
     "data": {
      "text/plain": [
       "[4, 3, 2, 1]"
      ]
     },
     "execution_count": 87,
     "metadata": {},
     "output_type": "execute_result"
    }
   ],
   "source": [
    "a"
   ]
  },
  {
   "cell_type": "code",
   "execution_count": 88,
   "id": "b4205b66",
   "metadata": {},
   "outputs": [],
   "source": [
    "arr=[[]]*4"
   ]
  },
  {
   "cell_type": "code",
   "execution_count": 89,
   "id": "e4c03c5e",
   "metadata": {},
   "outputs": [
    {
     "data": {
      "text/plain": [
       "[[], [], [], []]"
      ]
     },
     "execution_count": 89,
     "metadata": {},
     "output_type": "execute_result"
    }
   ],
   "source": [
    "arr"
   ]
  },
  {
   "cell_type": "code",
   "execution_count": 90,
   "id": "1a0af148",
   "metadata": {},
   "outputs": [
    {
     "data": {
      "text/plain": [
       "[]"
      ]
     },
     "execution_count": 90,
     "metadata": {},
     "output_type": "execute_result"
    }
   ],
   "source": [
    "arr[0]"
   ]
  },
  {
   "cell_type": "code",
   "execution_count": 91,
   "id": "e25dbc1e",
   "metadata": {},
   "outputs": [],
   "source": [
    "arr[0].append(1)"
   ]
  },
  {
   "cell_type": "code",
   "execution_count": 92,
   "id": "deaf2bec",
   "metadata": {},
   "outputs": [
    {
     "data": {
      "text/plain": [
       "[[1], [1], [1], [1]]"
      ]
     },
     "execution_count": 92,
     "metadata": {},
     "output_type": "execute_result"
    }
   ],
   "source": [
    "arr"
   ]
  },
  {
   "cell_type": "code",
   "execution_count": 93,
   "id": "9f90fa00",
   "metadata": {},
   "outputs": [
    {
     "name": "stdout",
     "output_type": "stream",
     "text": [
      "rutu\n",
      "rutu\n"
     ]
    }
   ],
   "source": [
    "name=input()\n",
    "print(name)"
   ]
  },
  {
   "cell_type": "code",
   "execution_count": null,
   "id": "e40c2239",
   "metadata": {},
   "outputs": [],
   "source": [
    "with t1 as (\n",
    "select submission_date, hacker_id, count(submission_id) ct from submissions group  by submission_date,hacker_id\n",
    "),\n",
    "t2 as(\n",
    "select submission_date, hacker_id,ct, rank() over(partition by submission_date order by ct,hacker_id desc ) as rk from t1\n",
    "),\n",
    "t3 as (\n",
    "select submission_date,t2.hacker_id,name from t2 left join hackers on t2.hacker_id=hackers.hacker_id where rk=1\n",
    "),\n",
    "t4 as (\n",
    "select submission_date, count(distinct(hacker_id)) as ct1 from submissions group by submission_date\n",
    ")\n",
    "select t4.submission_date, ct1, hacker_id, name from t4 left join t3 on t4.submission_date=t3.submission_date "
   ]
  },
  {
   "cell_type": "code",
   "execution_count": 96,
   "id": "48a8b8ab",
   "metadata": {},
   "outputs": [],
   "source": [
    "df=pd.read_csv('house_price.txt')"
   ]
  },
  {
   "cell_type": "code",
   "execution_count": 95,
   "id": "32f0e4d0",
   "metadata": {},
   "outputs": [],
   "source": [
    "import pandas as pd"
   ]
  },
  {
   "cell_type": "code",
   "execution_count": 97,
   "id": "a383aa83",
   "metadata": {},
   "outputs": [
    {
     "data": {
      "text/html": [
       "<div>\n",
       "<style scoped>\n",
       "    .dataframe tbody tr th:only-of-type {\n",
       "        vertical-align: middle;\n",
       "    }\n",
       "\n",
       "    .dataframe tbody tr th {\n",
       "        vertical-align: top;\n",
       "    }\n",
       "\n",
       "    .dataframe thead th {\n",
       "        text-align: right;\n",
       "    }\n",
       "</style>\n",
       "<table border=\"1\" class=\"dataframe\">\n",
       "  <thead>\n",
       "    <tr style=\"text-align: right;\">\n",
       "      <th></th>\n",
       "      <th>Id</th>\n",
       "      <th>MSSubClass</th>\n",
       "      <th>MSZoning</th>\n",
       "      <th>LotFrontage</th>\n",
       "      <th>LotArea</th>\n",
       "      <th>Street</th>\n",
       "      <th>Alley</th>\n",
       "      <th>LotShape</th>\n",
       "      <th>LandContour</th>\n",
       "      <th>Utilities</th>\n",
       "      <th>...</th>\n",
       "      <th>PoolArea</th>\n",
       "      <th>PoolQC</th>\n",
       "      <th>Fence</th>\n",
       "      <th>MiscFeature</th>\n",
       "      <th>MiscVal</th>\n",
       "      <th>MoSold</th>\n",
       "      <th>YrSold</th>\n",
       "      <th>SaleType</th>\n",
       "      <th>SaleCondition</th>\n",
       "      <th>SalePrice</th>\n",
       "    </tr>\n",
       "  </thead>\n",
       "  <tbody>\n",
       "    <tr>\n",
       "      <th>0</th>\n",
       "      <td>1</td>\n",
       "      <td>60</td>\n",
       "      <td>RL</td>\n",
       "      <td>65.0</td>\n",
       "      <td>8450</td>\n",
       "      <td>Pave</td>\n",
       "      <td>NaN</td>\n",
       "      <td>Reg</td>\n",
       "      <td>Lvl</td>\n",
       "      <td>AllPub</td>\n",
       "      <td>...</td>\n",
       "      <td>0</td>\n",
       "      <td>NaN</td>\n",
       "      <td>NaN</td>\n",
       "      <td>NaN</td>\n",
       "      <td>0</td>\n",
       "      <td>2</td>\n",
       "      <td>2008</td>\n",
       "      <td>WD</td>\n",
       "      <td>Normal</td>\n",
       "      <td>208500</td>\n",
       "    </tr>\n",
       "    <tr>\n",
       "      <th>1</th>\n",
       "      <td>2</td>\n",
       "      <td>20</td>\n",
       "      <td>RL</td>\n",
       "      <td>80.0</td>\n",
       "      <td>9600</td>\n",
       "      <td>Pave</td>\n",
       "      <td>NaN</td>\n",
       "      <td>Reg</td>\n",
       "      <td>Lvl</td>\n",
       "      <td>AllPub</td>\n",
       "      <td>...</td>\n",
       "      <td>0</td>\n",
       "      <td>NaN</td>\n",
       "      <td>NaN</td>\n",
       "      <td>NaN</td>\n",
       "      <td>0</td>\n",
       "      <td>5</td>\n",
       "      <td>2007</td>\n",
       "      <td>WD</td>\n",
       "      <td>Normal</td>\n",
       "      <td>181500</td>\n",
       "    </tr>\n",
       "    <tr>\n",
       "      <th>2</th>\n",
       "      <td>3</td>\n",
       "      <td>60</td>\n",
       "      <td>RL</td>\n",
       "      <td>68.0</td>\n",
       "      <td>11250</td>\n",
       "      <td>Pave</td>\n",
       "      <td>NaN</td>\n",
       "      <td>IR1</td>\n",
       "      <td>Lvl</td>\n",
       "      <td>AllPub</td>\n",
       "      <td>...</td>\n",
       "      <td>0</td>\n",
       "      <td>NaN</td>\n",
       "      <td>NaN</td>\n",
       "      <td>NaN</td>\n",
       "      <td>0</td>\n",
       "      <td>9</td>\n",
       "      <td>2008</td>\n",
       "      <td>WD</td>\n",
       "      <td>Normal</td>\n",
       "      <td>223500</td>\n",
       "    </tr>\n",
       "    <tr>\n",
       "      <th>3</th>\n",
       "      <td>4</td>\n",
       "      <td>70</td>\n",
       "      <td>RL</td>\n",
       "      <td>60.0</td>\n",
       "      <td>9550</td>\n",
       "      <td>Pave</td>\n",
       "      <td>NaN</td>\n",
       "      <td>IR1</td>\n",
       "      <td>Lvl</td>\n",
       "      <td>AllPub</td>\n",
       "      <td>...</td>\n",
       "      <td>0</td>\n",
       "      <td>NaN</td>\n",
       "      <td>NaN</td>\n",
       "      <td>NaN</td>\n",
       "      <td>0</td>\n",
       "      <td>2</td>\n",
       "      <td>2006</td>\n",
       "      <td>WD</td>\n",
       "      <td>Abnorml</td>\n",
       "      <td>140000</td>\n",
       "    </tr>\n",
       "    <tr>\n",
       "      <th>4</th>\n",
       "      <td>5</td>\n",
       "      <td>60</td>\n",
       "      <td>RL</td>\n",
       "      <td>84.0</td>\n",
       "      <td>14260</td>\n",
       "      <td>Pave</td>\n",
       "      <td>NaN</td>\n",
       "      <td>IR1</td>\n",
       "      <td>Lvl</td>\n",
       "      <td>AllPub</td>\n",
       "      <td>...</td>\n",
       "      <td>0</td>\n",
       "      <td>NaN</td>\n",
       "      <td>NaN</td>\n",
       "      <td>NaN</td>\n",
       "      <td>0</td>\n",
       "      <td>12</td>\n",
       "      <td>2008</td>\n",
       "      <td>WD</td>\n",
       "      <td>Normal</td>\n",
       "      <td>250000</td>\n",
       "    </tr>\n",
       "  </tbody>\n",
       "</table>\n",
       "<p>5 rows × 81 columns</p>\n",
       "</div>"
      ],
      "text/plain": [
       "   Id  MSSubClass MSZoning  LotFrontage  LotArea Street Alley LotShape  \\\n",
       "0   1          60       RL         65.0     8450   Pave   NaN      Reg   \n",
       "1   2          20       RL         80.0     9600   Pave   NaN      Reg   \n",
       "2   3          60       RL         68.0    11250   Pave   NaN      IR1   \n",
       "3   4          70       RL         60.0     9550   Pave   NaN      IR1   \n",
       "4   5          60       RL         84.0    14260   Pave   NaN      IR1   \n",
       "\n",
       "  LandContour Utilities  ... PoolArea PoolQC Fence MiscFeature MiscVal MoSold  \\\n",
       "0         Lvl    AllPub  ...        0    NaN   NaN         NaN       0      2   \n",
       "1         Lvl    AllPub  ...        0    NaN   NaN         NaN       0      5   \n",
       "2         Lvl    AllPub  ...        0    NaN   NaN         NaN       0      9   \n",
       "3         Lvl    AllPub  ...        0    NaN   NaN         NaN       0      2   \n",
       "4         Lvl    AllPub  ...        0    NaN   NaN         NaN       0     12   \n",
       "\n",
       "  YrSold  SaleType  SaleCondition  SalePrice  \n",
       "0   2008        WD         Normal     208500  \n",
       "1   2007        WD         Normal     181500  \n",
       "2   2008        WD         Normal     223500  \n",
       "3   2006        WD        Abnorml     140000  \n",
       "4   2008        WD         Normal     250000  \n",
       "\n",
       "[5 rows x 81 columns]"
      ]
     },
     "execution_count": 97,
     "metadata": {},
     "output_type": "execute_result"
    }
   ],
   "source": [
    "df.head(5)"
   ]
  },
  {
   "cell_type": "code",
   "execution_count": 98,
   "id": "920bfe79",
   "metadata": {},
   "outputs": [],
   "source": [
    "x=3"
   ]
  },
  {
   "cell_type": "code",
   "execution_count": 102,
   "id": "085c96f7",
   "metadata": {},
   "outputs": [
    {
     "name": "stdout",
     "output_type": "stream",
     "text": [
      "  H\r\n",
      " HHH\r\n",
      "HHHHH\r\n",
      " HHH         HHH\r\n",
      " HHH         HHH\r\n",
      " HHH         HHH\r\n",
      " HHH         HHH\r\n",
      " HHHHHHHHHHHHHHH\r\n",
      " HHHHHHHHHHHHHHH\r\n",
      " HHH         HHH\r\n",
      " HHH         HHH\r\n",
      " HHH         HHH\r\n",
      " HHH         HHH\r\n",
      "            HHHHH\r\n",
      "             HHH\r\n",
      "              H\r\n"
     ]
    }
   ],
   "source": [
    "\n",
    "for i in range(x):\n",
    "    for j in range(x-i-1):\n",
    "        print(' ',end='')\n",
    "    for k in range(2*i+1):\n",
    "        print('H',end='')\n",
    "    print('\\r')\n",
    "for i in range(x+1):\n",
    "    for j in range(((x+1)//2)-1):\n",
    "        print(' ',end='')\n",
    "    print('H'.center(x,'H'),end='')\n",
    "    print(' '.center(x*3,' '),end='')\n",
    "    print('H'.center(x,'H'),end='')\n",
    "    print('\\r')\n",
    "for i in range((x+1)//2):\n",
    "    for j in range(((x+1)//2)-1):\n",
    "        print(' ',end='')\n",
    "    print('H'.center(x*5,'H'),end='')\n",
    "    print('\\r')\n",
    "for i in range(x+1):\n",
    "    for j in range(((x+1)//2)-1):\n",
    "        print(' ',end='')\n",
    "    print('H'.center(x,'H'),end='')\n",
    "    print(' '.center(x*3,' '),end='')\n",
    "    print('H'.center(x,'H'),end='')\n",
    "    print('\\r')\n",
    "for i in range(x):\n",
    "    for j in range(x*4+i):\n",
    "        print(' ',end='')\n",
    "    for k in range(x*2-1-2*i):\n",
    "        print('H',end='')\n",
    "    print('\\r')"
   ]
  },
  {
   "cell_type": "code",
   "execution_count": 103,
   "id": "e57a9cf1",
   "metadata": {},
   "outputs": [
    {
     "name": "stdout",
     "output_type": "stream",
     "text": [
      "---------.|.---------\n",
      "-------WELCOME-------\n",
      "---------.|.---------\n"
     ]
    }
   ],
   "source": [
    "c='.|.'\n",
    "for i in range(int((x-1)/2)):\n",
    "    print((c*(2*i+1)).center(21,'-')) \n",
    "    \n",
    "print('WELCOME'.center(21,'-'))\n",
    "for i in range(int((x-1)/2)):\n",
    "    j= int((x-1)/2)-i-1\n",
    "    print((c*(2*j+1)).center(21,'-')) "
   ]
  },
  {
   "cell_type": "code",
   "execution_count": 104,
   "id": "cff8fc97",
   "metadata": {},
   "outputs": [],
   "source": [
    "a=[1,2,3,4,5,6,7]"
   ]
  },
  {
   "cell_type": "code",
   "execution_count": 106,
   "id": "4483cf30",
   "metadata": {},
   "outputs": [
    {
     "data": {
      "text/plain": [
       "[1, 2, 3, 4]"
      ]
     },
     "execution_count": 106,
     "metadata": {},
     "output_type": "execute_result"
    }
   ],
   "source": [
    "a[0:4]"
   ]
  },
  {
   "cell_type": "code",
   "execution_count": 107,
   "id": "f6c62812",
   "metadata": {},
   "outputs": [
    {
     "data": {
      "text/plain": [
       "[5, 6, 7]"
      ]
     },
     "execution_count": 107,
     "metadata": {},
     "output_type": "execute_result"
    }
   ],
   "source": [
    "a[4:]"
   ]
  },
  {
   "cell_type": "code",
   "execution_count": 108,
   "id": "0d32fbed",
   "metadata": {},
   "outputs": [
    {
     "data": {
      "text/plain": [
       "5"
      ]
     },
     "execution_count": 108,
     "metadata": {},
     "output_type": "execute_result"
    }
   ],
   "source": [
    "a[4]"
   ]
  },
  {
   "cell_type": "code",
   "execution_count": 115,
   "id": "0cbf8051",
   "metadata": {},
   "outputs": [
    {
     "name": "stdout",
     "output_type": "stream",
     "text": [
      "re.compile('aaa')\n",
      "<re.Match object; span=(0, 3), match='aaa'>\n",
      "(0, 2)\n",
      "(1, 3)\n",
      "(9, 11)\n",
      "(10, 12)\n"
     ]
    }
   ],
   "source": [
    "import re\n",
    "string = 'aaaabbaabaaaa'\n",
    "subString = 'aaa'\n",
    "\n",
    "ptrn = re.compile(subString)\n",
    "print(ptrn) \n",
    "m = ptrn.search(string)\n",
    "print(m)\n",
    "if m:\n",
    "  while m:\n",
    "    print(f\"({m.start()}, {m.end()-1})\")\n",
    "    m = ptrn.search(string, m.start()+1)\n",
    "        \n",
    "else:\n",
    "  print(\"(-1, -1)\")"
   ]
  },
  {
   "cell_type": "code",
   "execution_count": 116,
   "id": "e4fd8893",
   "metadata": {},
   "outputs": [],
   "source": [
    "arr=[[1,1,1],[1,1,1],[1,1,1]]"
   ]
  },
  {
   "cell_type": "code",
   "execution_count": 121,
   "id": "90429bd6",
   "metadata": {},
   "outputs": [
    {
     "name": "stdout",
     "output_type": "stream",
     "text": [
      "9\n"
     ]
    }
   ],
   "source": [
    "a=numpy.array(arr)\n",
    "b=numpy.sum(a,axis=0)\n",
    "print(b[0]*b[1])"
   ]
  },
  {
   "cell_type": "code",
   "execution_count": 120,
   "id": "557dfd1f",
   "metadata": {},
   "outputs": [],
   "source": [
    "import numpy "
   ]
  },
  {
   "cell_type": "code",
   "execution_count": null,
   "id": "b5c3305f",
   "metadata": {},
   "outputs": [],
   "source": []
  }
 ],
 "metadata": {
  "kernelspec": {
   "display_name": "Python 3 (ipykernel)",
   "language": "python",
   "name": "python3"
  },
  "language_info": {
   "codemirror_mode": {
    "name": "ipython",
    "version": 3
   },
   "file_extension": ".py",
   "mimetype": "text/x-python",
   "name": "python",
   "nbconvert_exporter": "python",
   "pygments_lexer": "ipython3",
   "version": "3.9.12"
  }
 },
 "nbformat": 4,
 "nbformat_minor": 5
}
